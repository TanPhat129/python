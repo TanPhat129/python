{
 "cells": [
  {
   "cell_type": "code",
   "id": "initial_id",
   "metadata": {
    "collapsed": true
   },
   "source": [
    "#1\n",
    "i = 1\n",
    "for i in range(11):\n",
    "    print(i)"
   ],
   "outputs": [],
   "execution_count": null
  },
  {
   "metadata": {},
   "cell_type": "code",
   "source": [
    "n = float(input(' enter to n: '))\n",
    "i = 0\n",
    "total = 0\n",
    "for i in range(int(n+1)):\n",
    "    total +=i\n",
    "print(total)"
   ],
   "id": "63446498185c8a31",
   "outputs": [],
   "execution_count": null
  },
  {
   "metadata": {},
   "cell_type": "code",
   "source": [
    "n = float(input(' enter to n: '))\n",
    "i = 0\n",
    "total_even = 0\n",
    "total_odd = 0\n",
    "for i in range(int(n+1)):\n",
    "    if i % 2 == 0:\n",
    "        total_even +=i\n",
    "    else:\n",
    "        total_odd += i\n",
    "\n",
    "print(total_even)\n",
    "print(total_odd)"
   ],
   "id": "39aa208d7e269a90",
   "outputs": [],
   "execution_count": null
  },
  {
   "metadata": {},
   "cell_type": "code",
   "source": [
    "#Write a program to check how many vowels are in a string entered from the keyboard.\n",
    "vowels = ['a', 'e', 'i', 'o', 'u','A','E','I','O','U']\n",
    "text = ' Hello World.'\n",
    "text = list(text)\n",
    "count = 0\n",
    "\n",
    "for char in text:\n",
    "    if char in vowels:\n",
    "        count += 1\n",
    "print(count)"
   ],
   "id": "acf8d4f737a3386a",
   "outputs": [],
   "execution_count": null
  },
  {
   "metadata": {},
   "cell_type": "code",
   "source": [
    "#Write a program to count the number of words in a sentence the user enters.\n",
    "text = 'Hello World 12092005'\n",
    "text = list(text)\n",
    "total = 0\n",
    "for i in range(len(text)):\n",
    "    if text[i].isdigit():\n",
    "        total += 1\n",
    "print(total)"
   ],
   "id": "1123286110d490f3",
   "outputs": [],
   "execution_count": null
  },
  {
   "metadata": {},
   "cell_type": "code",
   "source": [
    "# Write a program that implements a game as the following description:\n",
    "    #\t1. The computer generates a random number from 1 to 100\n",
    "    #\t2. The user was asked to guess\n",
    "    #\t3. match the user-guessing number to the generated number\n",
    "\n",
    "import random\n",
    "def guess_number_game():\n",
    "    num = random.randint(1, 100)\n",
    "    print(num)\n",
    "\n",
    "    attempts = 0\n",
    "\n",
    "    levels = input(' enter to level: ')\n",
    "\n",
    "    if levels == 'easy':\n",
    "        attempts = 10\n",
    "    elif levels == 'medium':\n",
    "        attempts = 6\n",
    "    elif levels == 'hard':\n",
    "        attempts = 4\n",
    "\n",
    "\n",
    "    for i in range(attempts):\n",
    "        guess = int(input('guess a number 1 to 100: '))\n",
    "        if num == guess:\n",
    "            print(f'You guessed right! The number {num} is correct.')\n",
    "            break\n",
    "        else:\n",
    "            if num < guess:\n",
    "                print(f'The number {guess} is too high.')\n",
    "            else:\n",
    "                print(f'The number {guess} is too low.')\n",
    "\n",
    "\n",
    "if __name__ == '__main__':\n",
    "    guess_number_game()\n"
   ],
   "id": "dda2560c34db5508",
   "outputs": [],
   "execution_count": null
  }
 ],
 "metadata": {
  "kernelspec": {
   "display_name": "Python 3",
   "language": "python",
   "name": "python3"
  },
  "language_info": {
   "codemirror_mode": {
    "name": "ipython",
    "version": 2
   },
   "file_extension": ".py",
   "mimetype": "text/x-python",
   "name": "python",
   "nbconvert_exporter": "python",
   "pygments_lexer": "ipython2",
   "version": "2.7.6"
  }
 },
 "nbformat": 4,
 "nbformat_minor": 5
}
