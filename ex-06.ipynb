{
 "cells": [
  {
   "cell_type": "code",
   "id": "initial_id",
   "metadata": {
    "collapsed": true,
    "ExecuteTime": {
     "end_time": "2025-05-07T14:31:58.250214Z",
     "start_time": "2025-05-07T14:31:58.246162Z"
    }
   },
   "source": [
    "# 1. Tạo một tuple các số và in ra một phần tử\n",
    "import random\n",
    "numbers = (10, 20, 30, 40, 50)\n",
    "n = random.randint(0, 4)\n",
    "print(\"One item from tuple:\", numbers[n])\n",
    "\n",
    "# 2. Unpack (giải nén) tuple thành nhiều biến\n",
    "a, b, c, d, e = numbers\n",
    "print(\"Unpacked values:\", a, b, c, d, e)\n",
    "\n",
    "# 3. Thêm phần tử vào tuple (bằng cách tạo tuple mới)\n",
    "new_numbers = numbers + (60,)  # Phải có dấu phẩy để tạo tuple một phần tử\n",
    "print(\"Tuple after adding an item:\", new_numbers)\n",
    "\n",
    "# 4. Tìm chỉ số (index) của một phần tử trong tuple\n",
    "index_30 = numbers.index(30)\n",
    "print(\"Index of 30:\", index_30)\n",
    "\n",
    "# 5. Tìm các phần tử bị lặp lại trong một tuple\n",
    "repeated_tuple = (1, 2, 3, 2, 4, 1, 5, 2)\n",
    "repeats = set([x for x in repeated_tuple if repeated_tuple.count(x) > 1])\n",
    "print(\"Repeated items in tuple:\", repeats)\n"
   ],
   "outputs": [
    {
     "name": "stdout",
     "output_type": "stream",
     "text": [
      "One item from tuple: 10\n",
      "Unpacked values: 10 20 30 40 50\n",
      "Tuple after adding an item: (10, 20, 30, 40, 50, 60)\n",
      "Index of 30: 2\n",
      "Repeated items in tuple: {1, 2}\n"
     ]
    }
   ],
   "execution_count": 38
  },
  {
   "metadata": {
    "ExecuteTime": {
     "end_time": "2025-05-07T14:33:22.187336Z",
     "start_time": "2025-05-07T14:33:22.182177Z"
    }
   },
   "cell_type": "code",
   "source": [
    "# 1. Tìm giá trị lớn nhất và nhỏ nhất trong một set\n",
    "numbers_set = {12, 5, 30, 7, 22}\n",
    "print(\"Max value in set:\", max(numbers_set))\n",
    "print(\"Min value in set:\", min(numbers_set))\n",
    "\n",
    "# 2. Kiểm tra xem một giá trị có tồn tại trong set không\n",
    "value = 30\n",
    "if value in numbers_set:\n",
    "    print(f\"{value} is present in the set.\")\n",
    "else:\n",
    "    print(f\"{value} is NOT present in the set.\")\n",
    "\n",
    "# 3. Kiểm tra xem hai tập hợp có phần tử chung không\n",
    "set1 = {1, 2, 3}\n",
    "set2 = {4, 5, 6}\n",
    "if set1.isdisjoint(set2):\n",
    "    print(\"set1 and set2 have no elements in common.\")\n",
    "else:\n",
    "    print(\"set1 and set2 share common elements.\")\n",
    "\n",
    "# 4. Đếm tần suất từ duy nhất trong danh sách chuỗi\n",
    "string_list = [\"apple\", \"banana\", \"apple\", \"orange\", \"banana\", \"apple\"]\n",
    "unique_words = set(string_list)\n",
    "print(\"Unique words:\", unique_words)\n",
    "for word in unique_words:\n",
    "    print(f\"{word}: {string_list.count(word)} times\")\n",
    "\n",
    "# 5. Tìm phần tử thiếu giữa 2 tập hợp\n",
    "first_set = {1, 2, 3, 4, 5}\n",
    "second_set = {4, 5, 6, 7}\n",
    "missing_in_second = first_set - second_set\n",
    "missing_in_first = second_set - first_set\n",
    "print(\"Missing in second set (from first):\", missing_in_second)\n",
    "print(\"Missing in first set (from second):\", missing_in_first)\n"
   ],
   "id": "a42ed5784caee96b",
   "outputs": [
    {
     "name": "stdout",
     "output_type": "stream",
     "text": [
      "Max value in set: 30\n",
      "Min value in set: 5\n",
      "30 is present in the set.\n",
      "set1 and set2 have no elements in common.\n",
      "Unique words: {'apple', 'banana', 'orange'}\n",
      "apple: 3 times\n",
      "banana: 2 times\n",
      "orange: 1 times\n",
      "Missing in second set (from first): {1, 2, 3}\n",
      "Missing in first set (from second): {6, 7}\n"
     ]
    }
   ],
   "execution_count": 40
  },
  {
   "metadata": {
    "ExecuteTime": {
     "end_time": "2025-05-07T14:37:40.841658Z",
     "start_time": "2025-05-07T14:37:40.832610Z"
    }
   },
   "cell_type": "code",
   "source": [
    "# Task 1: Convert two lists into a dictionary\n",
    "list1 = ['a', 'b', 'c']\n",
    "list2 = [1, 2, 3]\n",
    "dict_from_lists = dict(zip(list1, list2))\n",
    "print(\"Dictionary from two lists:\", dict_from_lists)\n",
    "\n",
    "# Task 2: Merge two Python dictionaries into one\n",
    "dict1 = {'a': 1, 'b': 2}\n",
    "dict2 = {'c': 3, 'd': 4}\n",
    "merged_dict = {**dict1, **dict2}\n",
    "print(\"Merged dictionary:\", merged_dict)\n",
    "\n",
    "# Task 3: Print the value of key 'history' from the below dict\n",
    "sample_dict = {'math': 90, 'history': 85, 'english': 88}\n",
    "print(\"Value of 'history':\", sample_dict.get('history'))\n",
    "\n",
    "# Task 4: Initialize dictionary with default values\n",
    "default_dict = dict.fromkeys(['a', 'b', 'c'], 0)\n",
    "print(\"Default dictionary:\", default_dict)\n",
    "\n",
    "# Task 5: Create a dictionary by extracting the keys from a given dictionary\n",
    "keys_dict = {key: sample_dict[key] for key in sample_dict.keys()}\n",
    "print(\"Dictionary with keys extracted:\", keys_dict)\n",
    "\n",
    "# Task 6: Delete a list of keys from a dictionary\n",
    "keys_to_delete = ['math', 'english']\n",
    "for key in keys_to_delete:\n",
    "    if key in sample_dict:\n",
    "        del sample_dict[key]\n",
    "print(\"Dictionary after deleting keys:\", sample_dict)\n",
    "\n",
    "# Task 7: Check if a value exists in a dictionary\n",
    "value_exists = 85 in sample_dict.values()\n",
    "print(\"Value 85 exists:\", value_exists)\n",
    "\n",
    "# Task 8: Rename key of a dictionary\n",
    "sample_dict['history_new'] = sample_dict.pop('history', None)\n",
    "print(\"Dictionary after renaming key:\", sample_dict)\n",
    "\n",
    "# Task 9: Get the key of a minimum value from the following dictionary\n",
    "min_key = min(sample_dict, key=sample_dict.get)\n",
    "print(\"Key with the minimum value:\", min_key)\n",
    "\n",
    "# Task 10: Change value of a key in a nested dictionary\n",
    "nested_dict = {'subject1': {'name': 'Math', 'score': 90}, 'subject2': {'name': 'History', 'score': 85}}\n",
    "nested_dict['subject1']['score'] = 95\n",
    "print(\"Nested dictionary after changing value:\", nested_dict)\n",
    "\n",
    "# Task 11: Counts the number of times characters appear in a text paragraph\n",
    "text = \"hello world\"\n",
    "char_count = {char: text.count(char) for char in set(text)}\n",
    "print(\"Character count in text:\", char_count)\n",
    "\n",
    "# Task 12: Using a dictionary containing keys starting from 1 and values containing prime numbers less than a value N\n",
    "N = 20\n",
    "primes = []\n",
    "for num in range(2, N):\n",
    "    if all(num % i != 0 for i in range(2, num)):\n",
    "        primes.append(num)\n",
    "\n",
    "prime_dict = {i + 1: primes[i] for i in range(len(primes))}\n",
    "print(\"Prime numbers dictionary:\", prime_dict)\n",
    "\n",
    "# Task 13: Restructuring the company data: Grouping employees by department\n",
    "employees = {\n",
    "    1001: {\"name\": \"Alice\", \"department\": \"Engineering\", \"salary\": 75000},\n",
    "    1002: {\"name\": \"Bob\", \"department\": \"Sales\", \"salary\": 50000},\n",
    "    1003: {\"name\": \"Charlie\", \"department\": \"Engineering\", \"salary\": 80000},\n",
    "    1004: {\"name\": \"Dave\", \"department\": \"Marketing\", \"salary\": 60000},\n",
    "    1005: {\"name\": \"Eve\", \"department\": \"Sales\", \"salary\": 55000}\n",
    "}\n",
    "\n",
    "# Group employees by department\n",
    "dept_employees = {}\n",
    "for emp_id, info in employees.items():\n",
    "    dept = info[\"department\"]\n",
    "    dept_employees.setdefault(dept, {})[emp_id] = {\n",
    "        \"name\": info[\"name\"],\n",
    "        \"salary\": info[\"salary\"]\n",
    "    }\n",
    "\n",
    "# Print the grouped data by department\n",
    "print(\"Grouped by department:\")\n",
    "from pprint import pprint\n",
    "pprint(dept_employees)\n"
   ],
   "id": "b1123a7600a4eaa3",
   "outputs": [
    {
     "name": "stdout",
     "output_type": "stream",
     "text": [
      "Dictionary from two lists: {'a': 1, 'b': 2, 'c': 3}\n",
      "Merged dictionary: {'a': 1, 'b': 2, 'c': 3, 'd': 4}\n",
      "Value of 'history': 85\n",
      "Default dictionary: {'a': 0, 'b': 0, 'c': 0}\n",
      "Dictionary with keys extracted: {'math': 90, 'history': 85, 'english': 88}\n",
      "Dictionary after deleting keys: {'history': 85}\n",
      "Value 85 exists: True\n",
      "Dictionary after renaming key: {'history_new': 85}\n",
      "Key with the minimum value: history_new\n",
      "Nested dictionary after changing value: {'subject1': {'name': 'Math', 'score': 95}, 'subject2': {'name': 'History', 'score': 85}}\n",
      "Character count in text: {'d': 1, 'e': 1, 'r': 1, 'l': 3, 'w': 1, ' ': 1, 'o': 2, 'h': 1}\n",
      "Prime numbers dictionary: {1: 2, 2: 3, 3: 5, 4: 7, 5: 11, 6: 13, 7: 17, 8: 19}\n",
      "Grouped by department:\n",
      "{'Engineering': {1001: {'name': 'Alice', 'salary': 75000},\n",
      "                 1003: {'name': 'Charlie', 'salary': 80000}},\n",
      " 'Marketing': {1004: {'name': 'Dave', 'salary': 60000}},\n",
      " 'Sales': {1002: {'name': 'Bob', 'salary': 50000},\n",
      "           1005: {'name': 'Eve', 'salary': 55000}}}\n"
     ]
    }
   ],
   "execution_count": 42
  }
 ],
 "metadata": {
  "kernelspec": {
   "display_name": "Python 3",
   "language": "python",
   "name": "python3"
  },
  "language_info": {
   "codemirror_mode": {
    "name": "ipython",
    "version": 2
   },
   "file_extension": ".py",
   "mimetype": "text/x-python",
   "name": "python",
   "nbconvert_exporter": "python",
   "pygments_lexer": "ipython2",
   "version": "2.7.6"
  }
 },
 "nbformat": 4,
 "nbformat_minor": 5
}
