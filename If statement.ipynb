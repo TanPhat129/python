{
 "cells": [
  {
   "cell_type": "code",
   "id": "initial_id",
   "metadata": {
    "collapsed": true
   },
   "source": [
    "from random import random\n",
    "\n",
    "#1\n",
    "age = int(input(\"Enter your age: \"))\n",
    "if age >= 18:\n",
    "    print('Ban da du tuoi')\n",
    "else:\n",
    "    print('Khong du tuoi')"
   ],
   "outputs": [],
   "execution_count": null
  },
  {
   "metadata": {},
   "cell_type": "code",
   "source": [
    "#02 even or odd\n",
    "num = int(input(\"Enter a number: \"))\n",
    "if num % 2 == 0:\n",
    "    print(f\"{num} is Even\")\n",
    "else:\n",
    "    print(f\"{num} is Odd\")\n"
   ],
   "id": "e54aa9697307086b",
   "outputs": [],
   "execution_count": null
  },
  {
   "metadata": {},
   "cell_type": "code",
   "source": [
    "#3\n",
    "num = int(input(\"Enter a number: \"))\n",
    "\n",
    "if num % 7 == 0:\n",
    "    print(f\"{num} is divisible by 7.\")\n",
    "else:\n",
    "    print(f\"{num} is not divisible by 7.\")\n"
   ],
   "id": "633650495b74fc8c",
   "outputs": [],
   "execution_count": null
  },
  {
   "metadata": {},
   "cell_type": "code",
   "source": [
    "#4\n",
    "num = input(\"Enter a number: \")\n",
    "last_num = num[-1]\n",
    "if int(last_num) % 3 == 0:\n",
    "    print(f\"the last digit {last_num} is divisible by 3.\")\n",
    "else:\n",
    "    print(f\"the last digit {last_num} is not divisible by 3.\")"
   ],
   "id": "6598005c7858a50",
   "outputs": [],
   "execution_count": null
  },
  {
   "metadata": {
    "ExecuteTime": {
     "end_time": "2025-04-05T02:47:14.010773Z",
     "start_time": "2025-04-05T02:47:11.022507Z"
    }
   },
   "cell_type": "code",
   "source": [
    "#5\n",
    "import random\n",
    "guess = int(input('Enter a numbe between 1 and 9: '))\n",
    "number = random.randint(1, 9)\n",
    "if guess == number:\n",
    "    print(\"You guessed right!\")\n",
    "\n",
    "elif guess > number:\n",
    "    print(f\"Too high!, Try again.\" )\n",
    "\n",
    "else:\n",
    "    print(f\"Too low!, Try again.\" )\n"
   ],
   "id": "b1eb9fb6801c69ff",
   "outputs": [
    {
     "name": "stdout",
     "output_type": "stream",
     "text": [
      "Too low!, Try again.\n"
     ]
    }
   ],
   "execution_count": 23
  },
  {
   "metadata": {
    "ExecuteTime": {
     "end_time": "2025-04-05T02:47:05.341540Z",
     "start_time": "2025-04-05T02:47:01.773475Z"
    }
   },
   "cell_type": "code",
   "source": [
    "#6\n",
    "day_number = int(input(\"Enter a number (1 to 7): \"))\n",
    "\n",
    "if day_number == 1:\n",
    "    print(\"Sunday\")\n",
    "elif day_number == 2:\n",
    "    print(\"Monday\")\n",
    "elif day_number == 3:\n",
    "    print(\"Tuesday\")\n",
    "elif day_number == 4:\n",
    "    print(\"Wednesday\")\n",
    "elif day_number == 5:\n",
    "    print(\"Thursday\")\n",
    "elif day_number == 6:\n",
    "    print(\"Friday\")\n",
    "elif day_number == 7:\n",
    "    print(\"Saturday\")\n",
    "else:\n",
    "    print(\"Invalid number! Please enter a number between 1 and 7.\")\n"
   ],
   "id": "779a0e3cff5cfdbf",
   "outputs": [
    {
     "name": "stdout",
     "output_type": "stream",
     "text": [
      "Thursday\n"
     ]
    }
   ],
   "execution_count": 22
  }
 ],
 "metadata": {
  "kernelspec": {
   "display_name": "Python 3",
   "language": "python",
   "name": "python3"
  },
  "language_info": {
   "codemirror_mode": {
    "name": "ipython",
    "version": 2
   },
   "file_extension": ".py",
   "mimetype": "text/x-python",
   "name": "python",
   "nbconvert_exporter": "python",
   "pygments_lexer": "ipython2",
   "version": "2.7.6"
  }
 },
 "nbformat": 4,
 "nbformat_minor": 5
}
