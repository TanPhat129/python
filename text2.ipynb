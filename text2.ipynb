{
 "cells": [
  {
   "cell_type": "code",
   "execution_count": null,
   "id": "initial_id",
   "metadata": {
    "collapsed": true
   },
   "outputs": [],
   "source": [
    "# #1\n",
    "x = 'abcdef'\n",
    "print(len(x))"
   ]
  },
  {
   "metadata": {},
   "cell_type": "code",
   "outputs": [],
   "execution_count": null,
   "source": [
    "#2\n",
    "exam = 'google.com'\n",
    "lenG = exam.count('g')\n",
    "lenO = exam.count('o')\n",
    "lenL = exam.count('l')\n",
    "lenE = exam.count('e')\n",
    "len_ = exam.count('.')\n",
    "lenC = exam.count('c')\n",
    "lenM = exam.count('m')\n",
    "print(f'g: {lenG}, o: {lenO}, l: {lenL}, e: {lenE}, .: {len_} c: {lenC}, m: {lenM}')"
   ],
   "id": "3e81a10ae1038a07"
  },
  {
   "metadata": {},
   "cell_type": "code",
   "outputs": [],
   "execution_count": null,
   "source": [
    "#3\n",
    "exam3 = input('enter string: ')\n",
    "if len(exam3) >= 2:\n",
    "    print(exam3[0:2] + exam3[-2:])\n",
    "if len(exam3) < 2:\n",
    "    print('Empty String')"
   ],
   "id": "ea60196cf2bc535"
  },
  {
   "metadata": {},
   "cell_type": "code",
   "outputs": [],
   "execution_count": null,
   "source": [
    "#4\n",
    "exam4 = 'restart'\n",
    "count = 0\n",
    "exam4_list = list(exam4)        #chuyển string sang list vì string không thể replace giá trị trực tiếp\n",
    "for i in range(len(exam4)):\n",
    "    if exam4[i] == 'r':\n",
    "        count += 1\n",
    "        if count > 1:\n",
    "            exam4_list[i] = '$'\n",
    "exam4 = ''.join(exam4_list)      # chuyen list -> string\n",
    "print(exam4)"
   ],
   "id": "d3c9180c55f65f25"
  },
  {
   "metadata": {},
   "cell_type": "code",
   "outputs": [],
   "execution_count": null,
   "source": [
    "#5\n",
    "s1 = 'abc'\n",
    "s2 = 'xyz'\n",
    "s2_new = s1[:2] + s2[2:] # lay 2 ki tu dau cua s1 + con lai cua s2\n",
    "s1_new = s2[:2] + s1[2:] # lay 2 ki tu dau cua s2 + con lai cua s1\n",
    "s = s1_new + \" \" + s2_new\n",
    "print(s)"
   ],
   "id": "821b46bba7477732"
  },
  {
   "metadata": {},
   "cell_type": "code",
   "outputs": [],
   "execution_count": null,
   "source": [
    "#6\n",
    "x = input('enter to string: ')\n",
    "result =''\n",
    "if len(x) <= 3:\n",
    "    result = x + 'ing'\n",
    "if len(x) > 3:\n",
    "    result = x + 'ly'\n",
    "print(result)"
   ],
   "id": "27013f66d932d658"
  },
  {
   "metadata": {
    "ExecuteTime": {
     "end_time": "2025-04-04T13:26:51.015240Z",
     "start_time": "2025-04-04T13:26:51.011150Z"
    }
   },
   "cell_type": "code",
   "source": [
    "#7\n",
    "exam7_2 = 'The lyrics is not that poor!'\n",
    "exam7_1 = 'The lyrics is poor!'\n",
    "\n",
    "not__ = exam7_1.find('not')\n",
    "poor = exam7_1.find('poor')\n",
    "if not__ >= 0 and poor >= 0 and not__ < poor:\n",
    "    exam7_1 = exam7_1[:not__] + 'good ' + exam7_1[poor:]\n",
    "print(exam7_1)"
   ],
   "id": "c7f4f49f002e533e",
   "outputs": [
    {
     "name": "stdout",
     "output_type": "stream",
     "text": [
      "The lyrics is poor!\n"
     ]
    }
   ],
   "execution_count": 2
  },
  {
   "metadata": {
    "ExecuteTime": {
     "end_time": "2025-04-04T13:27:41.403852Z",
     "start_time": "2025-04-04T13:27:41.398968Z"
    }
   },
   "cell_type": "code",
   "source": [
    "#8\n",
    "list_word = ['abcd', 'def', 'ghiefff']\n",
    "a = len(list_word)\n",
    "len_longest_word = 0\n",
    "longest_word = ''\n",
    "for i in range(a):\n",
    "    if len(list_word[i]) > len_longest_word:\n",
    "        len_longest_word = len(list_word[i])\n",
    "        longest_word = list_word[i]\n",
    "print(f'Length of the longest word: {len_longest_word}')\n",
    "print(f'Longest word: {longest_word}')"
   ],
   "id": "28cfe3e7ee7898f3",
   "outputs": [
    {
     "name": "stdout",
     "output_type": "stream",
     "text": [
      "Length of the longest word: 7\n",
      "Longest word: ghiefff\n"
     ]
    }
   ],
   "execution_count": 3
  },
  {
   "metadata": {},
   "cell_type": "code",
   "outputs": [],
   "execution_count": null,
   "source": [
    "#9\n",
    "exam9 = 'tanphat'\n",
    "n = int(input('enter number: '))\n",
    "if 0 < n < len(exam9):\n",
    "    exam9 = exam9[:n] + exam9[n+1:]\n",
    "    print(exam9)\n",
    "else:\n",
    "    print('Invalid index')\n",
    "\n",
    "10\n",
    "exam10 = 'tanphannnn'\n",
    "start = exam10[0]   #lay ki tu dau\n",
    "end = exam10[-1]    #lay ki tu cuoi\n",
    "exam10 = end + exam10[1:-1] + start\n",
    "print(exam10)\n"
   ],
   "id": "4d79b0e50b4f6dae"
  },
  {
   "metadata": {},
   "cell_type": "code",
   "outputs": [],
   "execution_count": null,
   "source": [
    "#11\n",
    "exam11 = 'abcdefn' # xoa b d f\n",
    "exam11 = \"\".join(exam11[i] for i in range(len(exam11)) if i %2 == 0)    #dung join tao chuoi moi ma ko anh huong chuoi cu\n",
    "print (exam11)"
   ],
   "id": "33912ed9b99f4ef7"
  },
  {
   "metadata": {},
   "cell_type": "code",
   "outputs": [],
   "execution_count": null,
   "source": [
    "#12\n",
    "exam12 = ('Học cái tốt thì khó, ví như người ta leo núi, '\n",
    "          'phải vất vả, khó nhọc mới lên đến đỉnh.')\n",
    "exam12 = exam12.lower()\n",
    "exam12 = exam12.replace(',', '').replace('.', '')\n",
    "list_words = exam12.split(' ')\n",
    "word_count = {}\n",
    "for i in list_words:\n",
    "    word_count[i] = word_count.get(i, 0) + 1\n",
    "for i, count in word_count.items():\n",
    "    print(f'{i}: {count}')"
   ],
   "id": "2eedc18d03705a52"
  },
  {
   "metadata": {},
   "cell_type": "code",
   "outputs": [],
   "execution_count": null,
   "source": [
    "#13\n",
    "exam13 = input('enter to string: ')\n",
    "exam13_lower = exam13.lower()\n",
    "exam13_upper = exam13.upper()\n",
    "print(f' {exam13_lower}, \\n {exam13_upper}')"
   ],
   "id": "88475dfcd7a16603"
  },
  {
   "metadata": {},
   "cell_type": "code",
   "outputs": [],
   "execution_count": null,
   "source": [
    "#14\n",
    "exam14 = input('enter to string (,): ')\n",
    "exam14 = exam14.replace(' ','')\n",
    "word_list = exam14.split(',')\n",
    "new_word_list = sorted(set(word_list))      # dung set de loai bo ptu trung lap truoc khi sorted\n",
    "print(new_word_list)"
   ],
   "id": "628b9978cd884fb1"
  },
  {
   "metadata": {},
   "cell_type": "code",
   "outputs": [],
   "execution_count": null,
   "source": [
    "#15\n",
    "tag = input('enter to tag string: ')\n",
    "text = input('enter to text string: ')\n",
    "result = print(f'<{tag}>{text}</{tag}>')"
   ],
   "id": "411876bb518627b6"
  },
  {
   "metadata": {},
   "cell_type": "code",
   "outputs": [],
   "execution_count": null,
   "source": [
    "#16\n",
    "wapper = input('enter to wapper: ')\n",
    "text = input('enter to text: ')\n",
    "mid = len(text)//2\n",
    "new = wapper[:mid+1] + text  + wapper[mid+1:]\n",
    "print(new)"
   ],
   "id": "b54f856f622acfaf"
  },
  {
   "metadata": {},
   "cell_type": "code",
   "outputs": [],
   "execution_count": null,
   "source": [
    "#17\n",
    "exam17 = input('enter to string: ')\n",
    "if len(exam17) > 2:\n",
    "    print(exam17[-2:] * 4)\n",
    "else:\n",
    "    print(exam17)"
   ],
   "id": "1102c1ce19d254cc"
  },
  {
   "metadata": {},
   "cell_type": "code",
   "outputs": [],
   "execution_count": null,
   "source": [
    "#18\n",
    "exam18 = input('enter to string: ')\n",
    "if len(exam18) >= 3:\n",
    "    print(exam18[:3])\n",
    "else:\n",
    "    print(exam18)"
   ],
   "id": "c15f4cd116e7b0de"
  },
  {
   "metadata": {},
   "cell_type": "code",
   "outputs": [],
   "execution_count": null,
   "source": [
    "#19\n",
    "exam19 = 'https://www.w3resource.com/python/exercises'\n",
    "position_last = 0\n",
    "for i in range(len(exam19)):\n",
    "    if exam19[i] == '/':\n",
    "        position_last = i\n",
    "new_string = exam19[:position_last]\n",
    "print(new_string)"
   ],
   "id": "6f5695f7a4dc6cb5"
  },
  {
   "metadata": {},
   "cell_type": "code",
   "outputs": [],
   "execution_count": null,
   "source": [
    "#20\n",
    "exam20 = input('enter to string: ')\n",
    "if len(exam20) %4 == 0:\n",
    "    print(exam20[::-1])"
   ],
   "id": "a8867e02409c7411"
  },
  {
   "metadata": {},
   "cell_type": "code",
   "outputs": [],
   "execution_count": null,
   "source": [
    "#21\n",
    "exam21 = input('enter to string: ')\n",
    "count = 0\n",
    "for i in range(4):\n",
    "    if exam21[i].isupper():\n",
    "        count += 1\n",
    "if count >= 2:\n",
    "    print(exam21.upper())\n",
    "else:\n",
    "    print(exam21)"
   ],
   "id": "8d39e90051ab6104"
  },
  {
   "metadata": {},
   "cell_type": "code",
   "outputs": [],
   "execution_count": null,
   "source": [
    "#22\n",
    "exam22 = input('enter to string: ')\n",
    "new_string = ''.join(sorted(exam22))\n",
    "print(new_string)\n"
   ],
   "id": "5caeb19e13240f09"
  },
  {
   "metadata": {},
   "cell_type": "code",
   "outputs": [],
   "execution_count": null,
   "source": [
    "#23\n",
    "text = input('enter to string: ')\n",
    "text  = text.replace(\"\\n\", \" \")  # Thay thế ký tự xuống dòng bằng chuỗi rỗng\n",
    "print(text)"
   ],
   "id": "f156bb89fad9d304"
  },
  {
   "metadata": {},
   "cell_type": "code",
   "outputs": [],
   "execution_count": null,
   "source": [
    "#24\n",
    "text = input('enter to string: ')\n",
    "sp = input('enter to sp: ')\n",
    "if text[0] == sp:\n",
    "    print('Co ki tu chi dinh')\n",
    "else:\n",
    "    print('Ko')"
   ],
   "id": "e21e1fcd6ec9aaa3"
  },
  {
   "metadata": {
    "ExecuteTime": {
     "end_time": "2025-04-04T13:33:47.485575Z",
     "start_time": "2025-04-04T13:33:47.480503Z"
    }
   },
   "cell_type": "code",
   "source": [
    "#25 Write a Python program to create a Caesar encryption.\n",
    "alphabet = 'abcdefghijklmnopqrstuvwxyz'\n",
    "\n",
    "text = 'hello hello'\n",
    "text = text.lower()\n",
    "text = list(text)\n",
    "shift = 3\n",
    "new_text = ''\n",
    "for i in range(len(text)):\n",
    "    found = False\n",
    "    for j in range(len(alphabet)):\n",
    "        if text[i] == alphabet[j]:\n",
    "            new_position = (j + shift) % 26\n",
    "            new_text += alphabet[new_position]\n",
    "            found = True\n",
    "            break\n",
    "    if not found:\n",
    "        new_text += text[i]\n",
    "print(new_text)"
   ],
   "id": "e642745ad47c5350",
   "outputs": [
    {
     "name": "stdout",
     "output_type": "stream",
     "text": [
      "khoor khoor\n"
     ]
    }
   ],
   "execution_count": 4
  },
  {
   "metadata": {},
   "cell_type": "code",
   "outputs": [],
   "execution_count": null,
   "source": [
    "#26\n",
    "exam26 = ('Học cái tốt thì khó, ví như người ta leo núi, phải vất vả, khó nhọc mới lên đến đỉnh.')\n",
    "width = 50\n",
    "new_test = '\\n'.join(exam26[i:i+width] for i in range(0, len(exam26), width))\n",
    "print(new_test)"
   ],
   "id": "55006ca25b0a7128"
  },
  {
   "metadata": {
    "ExecuteTime": {
     "end_time": "2025-04-04T13:38:40.377335Z",
     "start_time": "2025-04-04T13:38:40.372693Z"
    }
   },
   "cell_type": "code",
   "source": [
    "#27\n",
    "exam27 = \"\"\"\n",
    "Nam quốc sơn hà Nam đế cư,\n",
    "        Tiệt nhiên định phận tại thiên thư.\n",
    "Như hà nghịch lỗ lai xâm phạm,\n",
    "    Nhữ đẳng hành khan thủ bại hư.\n",
    "\"\"\"\n",
    "lines = exam27.splitlines()\n",
    "stripped_lines = [line.lstrip() for line in lines]\n",
    "\n",
    "new_exam = '\\n'.join(stripped_lines)\n",
    "print(new_exam)"
   ],
   "id": "767a2730c31b45e8",
   "outputs": [
    {
     "name": "stdout",
     "output_type": "stream",
     "text": [
      "\n",
      "Nam quốc sơn hà Nam đế cư,\n",
      "Tiệt nhiên định phận tại thiên thư.\n",
      "Như hà nghịch lỗ lai xâm phạm,\n",
      "Nhữ đẳng hành khan thủ bại hư.\n"
     ]
    }
   ],
   "execution_count": 10
  },
  {
   "metadata": {
    "ExecuteTime": {
     "end_time": "2025-04-04T13:34:58.892960Z",
     "start_time": "2025-04-04T13:34:51.234975Z"
    }
   },
   "cell_type": "code",
   "source": [
    "#28\n",
    "print(\"Enter multiple lines (press Enter twice to finish):\")\n",
    "lines = []\n",
    "while True:\n",
    "    line = input()\n",
    "    if line == \"\":  # Dừng khi gặp dòng trống\n",
    "        break\n",
    "    lines.append(line)\n",
    "\n",
    "prefix = \"-->\"\n",
    "result = \"\\n\".join(prefix + line for line in lines)\n",
    "print(result)"
   ],
   "id": "58034db9ff9e8ccb",
   "outputs": [
    {
     "name": "stdout",
     "output_type": "stream",
     "text": [
      "Enter multiple lines (press Enter twice to finish):\n",
      "-->3\n",
      "-->3\n"
     ]
    }
   ],
   "execution_count": 6
  },
  {
   "metadata": {
    "ExecuteTime": {
     "end_time": "2025-04-04T13:37:54.957428Z",
     "start_time": "2025-04-04T13:37:54.953919Z"
    }
   },
   "cell_type": "code",
   "source": [
    "#29\n",
    "exam29 = \"\"\"\n",
    "Nam quốc sơn hà Nam đế cư,\n",
    "Tiệt nhiên định phận tại thiên thư.\n",
    "Như hà nghịch lỗ lai xâm phạm,\n",
    "Nhữ đẳng hành khan thủ bại hư.\n",
    "\"\"\"\n",
    "\n",
    "lines = exam29.splitlines()\n",
    "\n",
    "\n",
    "for i, line in enumerate(lines):\n",
    "    if line.strip():  # Nếu dòng không rỗng\n",
    "        lines[i] = '\\t\\t' + line\n",
    "        break\n",
    "\n",
    "new_exam = '\\n'.join(lines)\n",
    "print(new_exam)\n"
   ],
   "id": "884bef2d4720d986",
   "outputs": [
    {
     "name": "stdout",
     "output_type": "stream",
     "text": [
      "\n",
      "\t\tNam quốc sơn hà Nam đế cư,\n",
      "Tiệt nhiên định phận tại thiên thư.\n",
      "Như hà nghịch lỗ lai xâm phạm,\n",
      "Nhữ đẳng hành khan thủ bại hư.\n"
     ]
    }
   ],
   "execution_count": 9
  },
  {
   "metadata": {},
   "cell_type": "code",
   "outputs": [],
   "execution_count": null,
   "source": [
    "#30\n",
    "numbers = [3.14159, 2.71828, 1.61803, 0.57721, 1.41421]\n",
    "for num in numbers:\n",
    "    print(f\"{num:.2f}\")\n"
   ],
   "id": "a3884515e6576b90"
  },
  {
   "metadata": {},
   "cell_type": "code",
   "outputs": [],
   "execution_count": null,
   "source": [
    "#31\n",
    "numbers = [3.14159, 2.71828, 1.61803, 0.57721, 1.41421]\n",
    "for num in numbers:\n",
    "    print(f\"{num:.2f}\")"
   ],
   "id": "5f99baf2b49b64b7"
  },
  {
   "metadata": {},
   "cell_type": "code",
   "outputs": [],
   "execution_count": null,
   "source": [
    "#32\n",
    "numbers = input('enter to sting: ')\n",
    "numbers = numbers.replace(',','')\n",
    "numbers = numbers.split()\n",
    "for i in range(len(numbers)):\n",
    "    print(f'{float(numbers[i]):+.0f}')"
   ],
   "id": "9d0df49b9e79d306"
  },
  {
   "metadata": {},
   "cell_type": "code",
   "outputs": [],
   "execution_count": null,
   "source": [
    "#33\n",
    "number = input('enter to sting: ')\n",
    "number = number.replace(',','')\n",
    "number = number.split()\n",
    "width = int(input('enter to sting: '))\n",
    "\n",
    "for i in range(len(number)):\n",
    "    num = width - len(number[i])\n",
    "    if 5 > num > 0:\n",
    "        number[i] = str(str(0*num) + number[i])\n",
    "        print(number[i])\n",
    "    else:\n",
    "        print(number[i])"
   ],
   "id": "9ebe7eeab4a83048"
  },
  {
   "metadata": {},
   "cell_type": "code",
   "outputs": [],
   "execution_count": null,
   "source": [
    "#34\n",
    "number = input('enter to sting: ')\n",
    "number = number.replace(',','')\n",
    "number = number.split()\n",
    "width = int(input('enter to sting: '))\n",
    "\n",
    "for i in range(len(number)):\n",
    "    num = width - len(number[i])\n",
    "    if 5 > num > 0:\n",
    "        number[i] = str(number[i] + str(num *'*'))\n",
    "        print(number[i])\n",
    "    else:\n",
    "        print(number[i])"
   ],
   "id": "f37b8cf679caa3d2"
  },
  {
   "metadata": {
    "ExecuteTime": {
     "end_time": "2025-04-04T13:40:10.671135Z",
     "start_time": "2025-04-04T13:40:05.658449Z"
    }
   },
   "cell_type": "code",
   "source": [
    "#35\n",
    "num = [12344, 523456, 111, -9999]\n",
    "#num = input('Enter to number: ')\n",
    "for i in range(len(num)):\n",
    "    if len(str(num[i])) > 3:\n",
    "        print(f'{num[i]:,}')"
   ],
   "id": "99272f3baabe4e5c",
   "outputs": [],
   "execution_count": 12
  },
  {
   "metadata": {
    "ExecuteTime": {
     "end_time": "2025-04-04T13:40:27.410332Z",
     "start_time": "2025-04-04T13:40:27.406419Z"
    }
   },
   "cell_type": "code",
   "source": [
    "#36\n",
    "num = [12344, 523456, 111, -9999, 0.12, 5.4]\n",
    "for i in range(len(num)):\n",
    "        print(f'{num[i]:.2%}')"
   ],
   "id": "853eda6c7d7d35c1",
   "outputs": [
    {
     "name": "stdout",
     "output_type": "stream",
     "text": [
      "1234400.00%\n",
      "52345600.00%\n",
      "11100.00%\n",
      "-999900.00%\n",
      "12.00%\n",
      "540.00%\n"
     ]
    }
   ],
   "execution_count": 13
  },
  {
   "metadata": {
    "ExecuteTime": {
     "end_time": "2025-04-04T13:48:13.843127Z",
     "start_time": "2025-04-04T13:48:13.839178Z"
    }
   },
   "cell_type": "code",
   "source": [
    "#37\n",
    "text = 'python'\n",
    "print(f'Can trai: {str(text):<10}')\n",
    "print(f'Can phai: {str(text):>10}')\n",
    "print(f'Can giua: {str(text):^10}')"
   ],
   "id": "210893b271000cdf",
   "outputs": [
    {
     "name": "stdout",
     "output_type": "stream",
     "text": [
      "Can trai: python    \n",
      "Can phai:     python\n",
      "Can giua:   python  \n"
     ]
    }
   ],
   "execution_count": 24
  },
  {
   "metadata": {
    "ExecuteTime": {
     "end_time": "2025-04-04T13:48:26.262181Z",
     "start_time": "2025-04-04T13:48:26.258417Z"
    }
   },
   "cell_type": "code",
   "source": [
    "#38\n",
    "text = ' nguyen huynh tan phat - python'\n",
    "text = text.lower()\n",
    "text = text.split()\n",
    "#substring = input('enter to sub: ')\n",
    "substring = 'python'\n",
    "substring = substring.lower()\n",
    "count = 0\n",
    "for i in range(len(text)):\n",
    "    if str(text[i]) == substring:\n",
    "        count += 1\n",
    "print(count)"
   ],
   "id": "e2ae06c779e674ce",
   "outputs": [
    {
     "name": "stdout",
     "output_type": "stream",
     "text": [
      "1\n"
     ]
    }
   ],
   "execution_count": 26
  },
  {
   "metadata": {
    "ExecuteTime": {
     "end_time": "2025-04-04T13:52:03.909507Z",
     "start_time": "2025-04-04T13:52:03.906705Z"
    }
   },
   "cell_type": "code",
   "source": [
    "#39 Write a  Python program to reverse a string\n",
    "text = 'python heheh tanphat'\n",
    "print(text[::-1])\n"
   ],
   "id": "166831bc2a6ab8f5",
   "outputs": [
    {
     "name": "stdout",
     "output_type": "stream",
     "text": [
      "tahpnat heheh nohtyp\n"
     ]
    }
   ],
   "execution_count": 39
  },
  {
   "metadata": {
    "ExecuteTime": {
     "end_time": "2025-04-04T13:50:52.565136Z",
     "start_time": "2025-04-04T13:50:52.562079Z"
    }
   },
   "cell_type": "code",
   "source": [
    "#40\n",
    "text = 'nguyen huynh tan phat tvc 2005'\n",
    "text = text.split()\n",
    "text = ' '.join(text[len(text) - 1::-1])\n",
    "print(text)"
   ],
   "id": "26207bf16e796da1",
   "outputs": [
    {
     "name": "stdout",
     "output_type": "stream",
     "text": [
      "2005 tvc phat tan huynh nguyen\n"
     ]
    }
   ],
   "execution_count": 33
  },
  {
   "metadata": {
    "ExecuteTime": {
     "end_time": "2025-04-02T02:33:12.598039Z",
     "start_time": "2025-04-02T02:32:57.585815Z"
    }
   },
   "cell_type": "code",
   "source": [
    "#41\n",
    "text = input('enter to string: ')\n",
    "strip = input('enter to strip: ')\n",
    "text = text.replace(strip, '')\n",
    "print(text)"
   ],
   "id": "35c6f91b00b3a8b5",
   "outputs": [
    {
     "name": "stdout",
     "output_type": "stream",
     "text": [
      "tanphat\n"
     ]
    }
   ],
   "execution_count": 3
  },
  {
   "metadata": {
    "ExecuteTime": {
     "end_time": "2025-04-02T03:10:55.451522Z",
     "start_time": "2025-04-02T03:10:55.447088Z"
    }
   },
   "cell_type": "code",
   "source": [
    "#42 write a Python program to count repeated characters in a string.\n",
    "text = 'thequickbrownfoxjumpsoverthelazydog'\n",
    "new_text  = list(text)\n",
    "for i in range(len(new_text)):\n",
    "    count = 0\n",
    "    if new_text[i] is None:\n",
    "        continue\n",
    "    for j in range(len(new_text)):\n",
    "        if new_text[j] == new_text[i]:\n",
    "            count += 1\n",
    "    if count > 1:\n",
    "        print(f'{new_text[i]}: {count}')\n",
    "    done = new_text[i]\n",
    "    for k in range(len(new_text)):      #\n",
    "        if new_text[k] == done:\n",
    "            new_text[k] = None\n"
   ],
   "id": "f9ebe3f681646258",
   "outputs": [
    {
     "name": "stdout",
     "output_type": "stream",
     "text": [
      "t: 2\n",
      "h: 2\n",
      "e: 3\n",
      "u: 2\n",
      "r: 2\n",
      "o: 4\n"
     ]
    }
   ],
   "execution_count": 27
  },
  {
   "metadata": {
    "ExecuteTime": {
     "end_time": "2025-04-02T03:34:28.362131Z",
     "start_time": "2025-04-02T03:34:21.350031Z"
    }
   },
   "cell_type": "code",
   "source": [
    "#43 area and volume of cylinder\n",
    "data = input('enter to string: ')\n",
    "data = list(map(float, data.split()))\n",
    "\n",
    "if len(data) == 2:\n",
    "    area = data[0] * data[1]\n",
    "    print(str(area) + ' m2')\n",
    "if len(data) == 3:\n",
    "    v = data[0] * data[1] * data[2]\n",
    "    print(str(v) + ' m3')\n"
   ],
   "id": "70dfafa686cd63a2",
   "outputs": [
    {
     "name": "stdout",
     "output_type": "stream",
     "text": [
      "70.0 m2\n"
     ]
    }
   ],
   "execution_count": 39
  },
  {
   "metadata": {
    "ExecuteTime": {
     "end_time": "2025-04-02T03:38:28.102261Z",
     "start_time": "2025-04-02T03:38:28.098Z"
    }
   },
   "cell_type": "code",
   "source": [
    "#44\n",
    "text = 'w3resource'\n",
    "position = 0\n",
    "for i in range(len(text)):\n",
    "    position = i\n",
    "    print(f'Current character {text[i]} position at {position}')"
   ],
   "id": "c22c2d49d7220621",
   "outputs": [
    {
     "name": "stdout",
     "output_type": "stream",
     "text": [
      "Current character w position at 0\n",
      "Current character 3 position at 1\n",
      "Current character r position at 2\n",
      "Current character e position at 3\n",
      "Current character s position at 4\n",
      "Current character o position at 5\n",
      "Current character u position at 6\n",
      "Current character r position at 7\n",
      "Current character c position at 8\n",
      "Current character e position at 9\n"
     ]
    }
   ],
   "execution_count": 41
  },
  {
   "metadata": {},
   "cell_type": "code",
   "outputs": [],
   "execution_count": null,
   "source": [
    "#45\n",
    "alphabet = [\n",
    "    'a', 'b', 'c', 'd', 'e', 'f', 'g', 'h', 'i', 'j', 'k', 'l', 'm',\n",
    "    'n', 'o', 'p', 'q', 'r', 's', 't', 'u', 'v', 'w', 'x', 'y', 'z'\n",
    "]\n",
    "#text = 'Kiểm tra xem tập hợp ký tự trong chuỗi có bao phủ toàn bộ bảng chữ cái không'\n",
    "text = 'The quick brown fox jumps over the lazy dog.'\n",
    "text = text.lower()\n",
    "text = set(text)        # chuyen chuoi thanh tap hop ki tu\n",
    "text = list(text)\n",
    "count = 0\n",
    "for i in range(len(text)):\n",
    "    for j in range(len(alphabet)):\n",
    "        if text[i] == alphabet[j]:\n",
    "            count += 1\n",
    "if count == 26:\n",
    "        print('chứa tất cả các kí tự')\n",
    "else:\n",
    "        print('Khong')"
   ],
   "id": "5429d01070542269"
  },
  {
   "metadata": {
    "ExecuteTime": {
     "end_time": "2025-04-02T06:26:25.636509Z",
     "start_time": "2025-04-02T06:26:25.630738Z"
    }
   },
   "cell_type": "code",
   "source": [
    "#46 convert string to list\n",
    "text = 'The quick brown fox jumps over the lazy dog.'\n",
    "text = text.split()\n",
    "new_list = list(text)\n",
    "print(new_list)\n",
    "print(text)\n"
   ],
   "id": "4eb61b127732802e",
   "outputs": [
    {
     "name": "stdout",
     "output_type": "stream",
     "text": [
      "['The', 'quick', 'brown', 'fox', 'jumps', 'over', 'the', 'lazy', 'dog.']\n",
      "['The', 'quick', 'brown', 'fox', 'jumps', 'over', 'the', 'lazy', 'dog.']\n"
     ]
    }
   ],
   "execution_count": 2
  },
  {
   "metadata": {
    "ExecuteTime": {
     "end_time": "2025-04-02T06:39:12.116154Z",
     "start_time": "2025-04-02T06:39:08.647772Z"
    }
   },
   "cell_type": "code",
   "source": [
    "#47 lowercase the first n characters in a string.\n",
    "text = 'THE QUICK brown fox jumps OVER the lazy dog.'\n",
    "num_lower = int(input('enter to lower number: '))\n",
    "text = text[:num_lower].lower() + text[num_lower:]\n",
    "print(text)"
   ],
   "id": "86edf97eeeeae2ec",
   "outputs": [
    {
     "name": "stdout",
     "output_type": "stream",
     "text": [
      "the qUICK brown fox jumps OVER the lazy dog.\n"
     ]
    }
   ],
   "execution_count": 10
  },
  {
   "metadata": {
    "ExecuteTime": {
     "end_time": "2025-04-02T06:53:03.484887Z",
     "start_time": "2025-04-02T06:53:03.473378Z"
    }
   },
   "cell_type": "code",
   "source": [
    "#48\n",
    "num = '32.054,23'\n",
    "print(num.replace(',','a').replace('.',',').replace('a','.'))"
   ],
   "id": "e01092f212d7cfca",
   "outputs": [
    {
     "name": "stdout",
     "output_type": "stream",
     "text": [
      "32,054.23\n"
     ]
    }
   ],
   "execution_count": 19
  },
  {
   "metadata": {
    "ExecuteTime": {
     "end_time": "2025-04-04T13:59:30.241485Z",
     "start_time": "2025-04-04T13:59:30.237204Z"
    }
   },
   "cell_type": "code",
   "source": [
    "#49\n",
    "vowels = ['a', 'e', 'i', 'o', 'u','A','E','I','O','U']\n",
    "text = 'THE QUICK brown fox jumps OVER the lazy dog.'\n",
    "text = list(text)\n",
    "count = {}\n",
    "\n",
    "for char in text:\n",
    "    if char in vowels:\n",
    "        count[char] = count.get(char, 0) + 1\n",
    "\n",
    "for vowel, num in count.items():\n",
    "    print(f'{vowel}: {num}')\n",
    "\n"
   ],
   "id": "2cd39b216fe5d20e",
   "outputs": [
    {
     "name": "stdout",
     "output_type": "stream",
     "text": [
      "E: 2\n",
      "U: 1\n",
      "I: 1\n",
      "o: 3\n",
      "u: 1\n",
      "O: 1\n",
      "e: 1\n",
      "a: 1\n"
     ]
    }
   ],
   "execution_count": 46
  },
  {
   "metadata": {
    "ExecuteTime": {
     "end_time": "2025-04-03T15:39:24.579077Z",
     "start_time": "2025-04-03T15:39:11.000774Z"
    }
   },
   "cell_type": "code",
   "source": [
    "#50 write a python program to split a string on the last occurrence ò the delimiter\n",
    "text = input('enter to string: ')\n",
    "delimiter = input('enter to delimiter: ')\n",
    "end = 0\n",
    "for i in range(len(text)):\n",
    "    if text[i] == delimiter:\n",
    "        end = i\n",
    "if end > 0:\n",
    "    print(text[:end]+','+text[end+1:])\n",
    "else:\n",
    "    print(text)"
   ],
   "id": "4e73869b06ce0a9a",
   "outputs": [
    {
     "name": "stdout",
     "output_type": "stream",
     "text": [
      "tan phat yeu nn lắm ó\n"
     ]
    }
   ],
   "execution_count": 10
  },
  {
   "metadata": {
    "ExecuteTime": {
     "end_time": "2025-04-03T16:48:03.374929Z",
     "start_time": "2025-04-03T16:48:03.371279Z"
    }
   },
   "cell_type": "code",
   "source": [
    "#51  Write a  Python program to find the first non-repeating character in a given string.\n",
    "text = '1ssaswisss'\n",
    "text = text.lower()\n",
    "position = 0\n",
    "for i in range(len(text)):\n",
    "    count = 0\n",
    "    for j in range(len(text)):\n",
    "        if text[j] == text[i]:\n",
    "            count += 1\n",
    "    if count == 1:\n",
    "        position = i\n",
    "        break\n",
    "\n",
    "print(text[position])"
   ],
   "id": "cfe7f51c5a22aaf9",
   "outputs": [
    {
     "name": "stdout",
     "output_type": "stream",
     "text": [
      "1\n"
     ]
    }
   ],
   "execution_count": 69
  },
  {
   "metadata": {
    "ExecuteTime": {
     "end_time": "2025-04-03T17:27:05.307526Z",
     "start_time": "2025-04-03T17:27:02.130114Z"
    }
   },
   "cell_type": "code",
   "source": [
    "#52 all permutations\n",
    "import itertools\n",
    "text = 'abc'\n",
    "# for i in range(len(text)):\n",
    "#     for j in range(len(text)):\n",
    "#         print(text[i]+text[j])\n",
    "repetition = int(input('enter to repetition: '))\n",
    "result = itertools.product(text, repeat= repetition)\n",
    "for r in result:\n",
    "    print(''.join(r))\n"
   ],
   "id": "d2ca5dbd42fe9447",
   "outputs": [
    {
     "name": "stdout",
     "output_type": "stream",
     "text": [
      "aa\n",
      "ab\n",
      "ac\n",
      "ba\n",
      "bb\n",
      "bc\n",
      "ca\n",
      "cb\n",
      "cc\n"
     ]
    }
   ],
   "execution_count": 79
  },
  {
   "metadata": {
    "ExecuteTime": {
     "end_time": "2025-04-03T17:34:54.945392Z",
     "start_time": "2025-04-03T17:34:52.765235Z"
    }
   },
   "cell_type": "code",
   "source": [
    "#52\n",
    "text = 'abc'\n",
    "repetition = int(input('enter to repetition: '))\n",
    "\n",
    "def permutations(text, repetition, new_text=''):\n",
    "    if len(new_text) == repetition:\n",
    "        print(new_text)\n",
    "        return\n",
    "    for i in text:\n",
    "        permutations(text, repetition, new_text+i)\n",
    "permutations(text, repetition)"
   ],
   "id": "5119de53482b3b1c",
   "outputs": [
    {
     "name": "stdout",
     "output_type": "stream",
     "text": [
      "a\n",
      "b\n",
      "c\n"
     ]
    }
   ],
   "execution_count": 86
  },
  {
   "metadata": {
    "ExecuteTime": {
     "end_time": "2025-04-03T17:40:01.481088Z",
     "start_time": "2025-04-03T17:40:01.476981Z"
    }
   },
   "cell_type": "code",
   "source": [
    "#54 Write a Python program to find the first repeated character in a given string.\n",
    "text = 'sbaabcdedbsa'\n",
    "for i in range(len(text)):\n",
    "    count = 0\n",
    "    for j in range(len(text)):\n",
    "        if text[i] == text[j]:\n",
    "            count += 1\n",
    "    if count >= 2:\n",
    "        print(text[i])\n",
    "        break"
   ],
   "id": "d8a8db48c938131d",
   "outputs": [
    {
     "name": "stdout",
     "output_type": "stream",
     "text": [
      "s\n"
     ]
    }
   ],
   "execution_count": 92
  },
  {
   "metadata": {
    "ExecuteTime": {
     "end_time": "2025-04-04T06:17:17.148638Z",
     "start_time": "2025-04-04T06:17:17.136979Z"
    }
   },
   "cell_type": "code",
   "source": [
    "#55 the first most repeated\n",
    "text = 'aaabcdd'\n",
    "\n",
    "max_num = 0\n",
    "position = 0\n",
    "for i in range(len(text)):\n",
    "    count = 0\n",
    "    for j in range(len(text)):\n",
    "        if text[i] == text[j]:\n",
    "            count += 1\n",
    "    if count > max_num:\n",
    "        max_num = count\n",
    "        position = i\n",
    "\n",
    "\n",
    "print(text[position],max_num)\n"
   ],
   "id": "c4431f2cd82807d5",
   "outputs": [
    {
     "name": "stdout",
     "output_type": "stream",
     "text": [
      "a 3\n"
     ]
    }
   ],
   "execution_count": 40
  },
  {
   "metadata": {
    "ExecuteTime": {
     "end_time": "2025-04-04T06:17:20.934569Z",
     "start_time": "2025-04-04T06:17:20.925119Z"
    }
   },
   "cell_type": "code",
   "source": [
    "#56 the second most repeated\n",
    "text = 'abcdd'\n",
    "\n",
    "max_num = 0\n",
    "second = 0\n",
    "position = 0\n",
    "for i in range(len(text)):\n",
    "    count = 0\n",
    "    for j in range(len(text)):\n",
    "        if text[i] == text[j]:\n",
    "            count += 1\n",
    "    if count > max_num:\n",
    "            second = max_num\n",
    "            max_num = count\n",
    "    elif second < count < max_num:\n",
    "            second = count\n",
    "            position = i\n",
    "\n",
    "print(text[position],second)\n"
   ],
   "id": "a115c1087c6e88ea",
   "outputs": [
    {
     "name": "stdout",
     "output_type": "stream",
     "text": [
      "a 1\n"
     ]
    }
   ],
   "execution_count": 41
  },
  {
   "metadata": {
    "ExecuteTime": {
     "end_time": "2025-04-04T06:19:21.967094Z",
     "start_time": "2025-04-04T06:19:21.960524Z"
    }
   },
   "cell_type": "code",
   "source": [
    "#57 remove spaces\n",
    "text = 'aaa abc dfe'\n",
    "text = text.replace(' ','')\n",
    "print(text)"
   ],
   "id": "c5527dbd13538403",
   "outputs": [
    {
     "name": "stdout",
     "output_type": "stream",
     "text": [
      "aaaabcdfe\n"
     ]
    }
   ],
   "execution_count": 42
  },
  {
   "metadata": {
    "ExecuteTime": {
     "end_time": "2025-04-04T06:24:05.513400Z",
     "start_time": "2025-04-04T06:24:05.504538Z"
    }
   },
   "cell_type": "code",
   "source": [
    "#58 to move spaces to the front of a given string\n",
    "text = 'aaa abc dfe'\n",
    "count = text.count(' ')\n",
    "print(text)\n",
    "print(count * ' ' + text.replace(' ',''))"
   ],
   "id": "f13c8fe08fdf2be8",
   "outputs": [
    {
     "name": "stdout",
     "output_type": "stream",
     "text": [
      "aaa abc dfe\n",
      "  aaaabcdfe\n"
     ]
    }
   ],
   "execution_count": 48
  },
  {
   "metadata": {},
   "cell_type": "code",
   "outputs": [],
   "execution_count": null,
   "source": [
    "#59\n",
    "text = 'aaabcdd'\n",
    "\n",
    "max_num = 0\n",
    "position = 0\n",
    "for i in range(len(text)):\n",
    "    count = 0\n",
    "    for j in range(len(text)):\n",
    "        if text[i] == text[j]:\n",
    "            count += 1\n",
    "    if count > max_num:\n",
    "        max_num = count\n",
    "        position = i\n",
    "\n",
    "\n",
    "print(text[position],max_num)\n"
   ],
   "id": "b35a042518918e99"
  },
  {
   "metadata": {
    "ExecuteTime": {
     "end_time": "2025-04-04T06:39:52.843775Z",
     "start_time": "2025-04-04T06:39:52.832457Z"
    }
   },
   "cell_type": "code",
   "source": [
    "text = 'nguyen huynh tan phat'\n",
    "count = 0\n",
    "max_num = 0\n",
    "max_char = ''\n",
    "for char in text:\n",
    "    count = text.count(char)\n",
    "\n",
    "    if count > max_num:\n",
    "        max_num = count\n",
    "        max_char = char\n",
    "print(max_char,max_num)"
   ],
   "id": "9f2b099a8d173daf",
   "outputs": [
    {
     "name": "stdout",
     "output_type": "stream",
     "text": [
      "n 4\n"
     ]
    }
   ],
   "execution_count": 56
  },
  {
   "metadata": {
    "ExecuteTime": {
     "end_time": "2025-04-04T06:48:39.187623Z",
     "start_time": "2025-04-04T06:48:39.173483Z"
    }
   },
   "cell_type": "code",
   "source": [
    "#60\n",
    "text = 'nguyen huynh tan phat @ 2005 tvc '\n",
    "text = text.split()\n",
    "result = []\n",
    "for word in text:\n",
    "    if len(word) > 1:\n",
    "        word = word[0].upper() + word[1:-1] + word[-1].upper()\n",
    "    else:\n",
    "        word = word.upper()\n",
    "    result.append(word)\n",
    "print(' '.join(result))"
   ],
   "id": "e6b37ce59bce8504",
   "outputs": [
    {
     "name": "stdout",
     "output_type": "stream",
     "text": [
      "NguyeN HuynH TaN PhaT @ 2005 TvC\n"
     ]
    }
   ],
   "execution_count": 66
  },
  {
   "metadata": {},
   "cell_type": "code",
   "outputs": [],
   "execution_count": null,
   "source": "#61",
   "id": "944bcc1ce856d622"
  },
  {
   "metadata": {
    "ExecuteTime": {
     "end_time": "2025-04-04T07:00:29.719136Z",
     "start_time": "2025-04-04T07:00:29.710259Z"
    }
   },
   "cell_type": "code",
   "source": [
    "# 62  Write a Python program to compute the sum of the digits in a given string.\n",
    "text = ' nguyen huynh tan phat 2005'\n",
    "total = 0\n",
    "for i in range(len(text)):\n",
    "    if text[i].isdigit():\n",
    "        total += int(text[i])\n",
    "print(total)"
   ],
   "id": "af56321ca89b2e6d",
   "outputs": [
    {
     "name": "stdout",
     "output_type": "stream",
     "text": [
      "7\n"
     ]
    }
   ],
   "execution_count": 89
  },
  {
   "metadata": {
    "ExecuteTime": {
     "end_time": "2025-04-04T07:36:20.854412Z",
     "start_time": "2025-04-04T07:36:20.848383Z"
    }
   },
   "cell_type": "code",
   "source": [
    "#63\n",
    "ip_address = '192.168.001.001'\n",
    "print(f'IP: {ip_address.replace('0','')}')"
   ],
   "id": "145c23bf7f8a591d",
   "outputs": [
    {
     "name": "stdout",
     "output_type": "stream",
     "text": [
      "IP: 192.168.1.1\n"
     ]
    }
   ],
   "execution_count": 103
  },
  {
   "metadata": {
    "ExecuteTime": {
     "end_time": "2025-04-04T08:02:14.561117Z",
     "start_time": "2025-04-04T08:02:14.550552Z"
    }
   },
   "cell_type": "code",
   "source": [
    "#64 max '0' in binary string\n",
    "binary = '100001000111001'\n",
    "binary = binary.replace('1',' ')\n",
    "binary = binary.split()\n",
    "max_num = 0\n",
    "\n",
    "for i in range(len(binary)):\n",
    "    count = binary[i].count('0')\n",
    "    if count > max_num:\n",
    "        max_num = count\n",
    "\n",
    "print(max_num)\n",
    "\n"
   ],
   "id": "33b0562c7bd4868e",
   "outputs": [
    {
     "name": "stdout",
     "output_type": "stream",
     "text": [
      "4\n"
     ]
    }
   ],
   "execution_count": 169
  },
  {
   "metadata": {
    "ExecuteTime": {
     "end_time": "2025-04-04T13:53:58.140609Z",
     "start_time": "2025-04-04T13:53:55.108287Z"
    }
   },
   "cell_type": "code",
   "source": [
    "#72\n",
    "text = 'Python Exercises '\n",
    "expect = input('enter: ')\n",
    "result =''\n",
    "for i in range(len(text)):\n",
    "    if text[i] == expect:\n",
    "        result += expect\n",
    "if result == '':\n",
    "    print('error')\n",
    "else:\n",
    "    print(result)\n"
   ],
   "id": "fc0394d5026da866",
   "outputs": [
    {
     "name": "stdout",
     "output_type": "stream",
     "text": [
      "P\n"
     ]
    }
   ],
   "execution_count": 42
  },
  {
   "metadata": {},
   "cell_type": "code",
   "outputs": [],
   "execution_count": null,
   "source": "",
   "id": "e479b34f01f3af62"
  }
 ],
 "metadata": {
  "kernelspec": {
   "display_name": "Python 3",
   "language": "python",
   "name": "python3"
  },
  "language_info": {
   "codemirror_mode": {
    "name": "ipython",
    "version": 2
   },
   "file_extension": ".py",
   "mimetype": "text/x-python",
   "name": "python",
   "nbconvert_exporter": "python",
   "pygments_lexer": "ipython2",
   "version": "2.7.6"
  }
 },
 "nbformat": 4,
 "nbformat_minor": 5
}
