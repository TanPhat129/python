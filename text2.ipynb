{
 "cells": [
  {
   "cell_type": "code",
   "execution_count": null,
   "id": "initial_id",
   "metadata": {
    "collapsed": true
   },
   "outputs": [],
   "source": [
    ""
   ]
  },
  {
   "metadata": {
    "ExecuteTime": {
     "end_time": "2025-04-02T01:38:08.434594Z",
     "start_time": "2025-04-02T01:38:08.428445Z"
    }
   },
   "cell_type": "code",
   "source": [
    "from ipaddress import ip_address\n",
    "from traceback import print_tb\n",
    "\n",
    "from IPython.lib.deepreload import found_now\n",
    "from jupyter_server.utils import to_api_path\n",
    "\n",
    "#39 Write a  Python program to reverse a string\n",
    "text = 'Đây là một đoạn văn mẫu. Đoạn này có thụt lề.'\n",
    "text = text.split()\n",
    "text = ' '.join(text[len(text) - 1::-1])\n",
    "print(text)"
   ],
   "id": "26207bf16e796da1",
   "outputs": [
    {
     "name": "stdout",
     "output_type": "stream",
     "text": [
      "lề. thụt có này Đoạn mẫu. văn đoạn một là Đây\n"
     ]
    }
   ],
   "execution_count": 1
  },
  {
   "metadata": {
    "ExecuteTime": {
     "end_time": "2025-04-02T01:44:32.609697Z",
     "start_time": "2025-04-02T01:44:20.683032Z"
    }
   },
   "cell_type": "code",
   "source": [
    "#24\n",
    "text = input('enter to string: ')\n",
    "sp = input('enter to sp: ')\n",
    "if text[0] == sp:\n",
    "    print('Co ki tu chi dinh')\n",
    "else:\n",
    "    print('Ko')\n"
   ],
   "id": "85d4f26e32a0918a",
   "outputs": [
    {
     "name": "stdout",
     "output_type": "stream",
     "text": [
      "Ko\n"
     ]
    }
   ],
   "execution_count": 2
  },
  {
   "metadata": {},
   "cell_type": "code",
   "outputs": [],
   "execution_count": null,
   "source": " #40",
   "id": "82364bd05ab475cf"
  },
  {
   "metadata": {
    "ExecuteTime": {
     "end_time": "2025-04-02T02:33:12.598039Z",
     "start_time": "2025-04-02T02:32:57.585815Z"
    }
   },
   "cell_type": "code",
   "source": [
    "#41\n",
    "text = input('enter to string: ')\n",
    "strip = input('enter to strip: ')\n",
    "text = text.replace(strip, '')\n",
    "print(text)"
   ],
   "id": "35c6f91b00b3a8b5",
   "outputs": [
    {
     "name": "stdout",
     "output_type": "stream",
     "text": [
      "tanphat\n"
     ]
    }
   ],
   "execution_count": 3
  },
  {
   "metadata": {
    "ExecuteTime": {
     "end_time": "2025-04-02T03:10:55.451522Z",
     "start_time": "2025-04-02T03:10:55.447088Z"
    }
   },
   "cell_type": "code",
   "source": [
    "#42 write a Python program to count repeated characters in a string.\n",
    "text = 'thequickbrownfoxjumpsoverthelazydog'\n",
    "new_text  = list(text)\n",
    "for i in range(len(new_text)):\n",
    "    count = 0\n",
    "    if new_text[i] is None:\n",
    "        continue\n",
    "    for j in range(len(new_text)):\n",
    "        if new_text[j] == new_text[i]:\n",
    "            count += 1\n",
    "    if count > 1:\n",
    "        print(f'{new_text[i]}: {count}')\n",
    "    done = new_text[i]\n",
    "    for k in range(len(new_text)):      #\n",
    "        if new_text[k] == done:\n",
    "            new_text[k] = None\n"
   ],
   "id": "f9ebe3f681646258",
   "outputs": [
    {
     "name": "stdout",
     "output_type": "stream",
     "text": [
      "t: 2\n",
      "h: 2\n",
      "e: 3\n",
      "u: 2\n",
      "r: 2\n",
      "o: 4\n"
     ]
    }
   ],
   "execution_count": 27
  },
  {
   "metadata": {
    "ExecuteTime": {
     "end_time": "2025-04-02T03:34:28.362131Z",
     "start_time": "2025-04-02T03:34:21.350031Z"
    }
   },
   "cell_type": "code",
   "source": [
    "#43 area and volume of cylinder\n",
    "data = input('enter to string: ')\n",
    "data = list(map(float, data.split()))\n",
    "\n",
    "if len(data) == 2:\n",
    "    area = data[0] * data[1]\n",
    "    print(str(area) + ' m2')\n",
    "if len(data) == 3:\n",
    "    v = data[0] * data[1] * data[2]\n",
    "    print(str(v) + ' m3')\n"
   ],
   "id": "70dfafa686cd63a2",
   "outputs": [
    {
     "name": "stdout",
     "output_type": "stream",
     "text": [
      "70.0 m2\n"
     ]
    }
   ],
   "execution_count": 39
  },
  {
   "metadata": {
    "ExecuteTime": {
     "end_time": "2025-04-02T03:38:28.102261Z",
     "start_time": "2025-04-02T03:38:28.098Z"
    }
   },
   "cell_type": "code",
   "source": [
    "#44\n",
    "text = 'w3resource'\n",
    "position = 0\n",
    "for i in range(len(text)):\n",
    "    position = i\n",
    "    print(f'Current character {text[i]} position at {position}')"
   ],
   "id": "c22c2d49d7220621",
   "outputs": [
    {
     "name": "stdout",
     "output_type": "stream",
     "text": [
      "Current character w position at 0\n",
      "Current character 3 position at 1\n",
      "Current character r position at 2\n",
      "Current character e position at 3\n",
      "Current character s position at 4\n",
      "Current character o position at 5\n",
      "Current character u position at 6\n",
      "Current character r position at 7\n",
      "Current character c position at 8\n",
      "Current character e position at 9\n"
     ]
    }
   ],
   "execution_count": 41
  },
  {
   "metadata": {
    "ExecuteTime": {
     "end_time": "2025-04-02T06:26:25.636509Z",
     "start_time": "2025-04-02T06:26:25.630738Z"
    }
   },
   "cell_type": "code",
   "source": [
    "#46 convert string to list\n",
    "text = 'The quick brown fox jumps over the lazy dog.'\n",
    "text = text.split()\n",
    "new_list = list(text)\n",
    "print(new_list)\n",
    "print(text)\n"
   ],
   "id": "4eb61b127732802e",
   "outputs": [
    {
     "name": "stdout",
     "output_type": "stream",
     "text": [
      "['The', 'quick', 'brown', 'fox', 'jumps', 'over', 'the', 'lazy', 'dog.']\n",
      "['The', 'quick', 'brown', 'fox', 'jumps', 'over', 'the', 'lazy', 'dog.']\n"
     ]
    }
   ],
   "execution_count": 2
  },
  {
   "metadata": {
    "ExecuteTime": {
     "end_time": "2025-04-02T05:55:03.233806Z",
     "start_time": "2025-04-02T05:55:03.227958Z"
    }
   },
   "cell_type": "code",
   "source": [
    "#7\n",
    "exam7_2 = 'The lyrics is not that poor!'\n",
    "exam7_1 = 'The lyrics is poor!'\n",
    "\n",
    "not__ = exam7_2.find('not')\n",
    "poor = exam7_2.find('poor')\n",
    "print(not__, poor)\n",
    "if not__ >= 0 and poor >= 0 and not__ < poor:\n",
    "    exam7_2 = exam7_2[:not__] + 'good ' + exam7_2[poor:]\n",
    "print(exam7_1)"
   ],
   "id": "e4f581a5f02849b7",
   "outputs": [
    {
     "name": "stdout",
     "output_type": "stream",
     "text": [
      "14 23\n",
      "The lyrics is poor!\n"
     ]
    }
   ],
   "execution_count": 4
  },
  {
   "metadata": {
    "ExecuteTime": {
     "end_time": "2025-04-02T06:27:25.912315Z",
     "start_time": "2025-04-02T06:27:25.903350Z"
    }
   },
   "cell_type": "code",
   "source": [
    "#45\n",
    "alphabet = [\n",
    "    'a', 'b', 'c', 'd', 'e', 'f', 'g', 'h', 'i', 'j', 'k', 'l', 'm',\n",
    "    'n', 'o', 'p', 'q', 'r', 's', 't', 'u', 'v', 'w', 'x', 'y', 'z'\n",
    "]\n",
    "#text = 'Kiểm tra xem tập hợp ký tự trong chuỗi có bao phủ toàn bộ bảng chữ cái không'\n",
    "text = 'The quick brown fox jumps over the lazy dog.'\n",
    "text = text.lower()\n",
    "text = set(text)        # chuyen chuoi thanh tap hop ki tu\n",
    "text = list(text)\n",
    "count = 0\n",
    "for i in range(len(text)):\n",
    "    for j in range(len(alphabet)):\n",
    "        if text[i] == alphabet[j]:\n",
    "            count += 1\n",
    "if count == 26:\n",
    "        print('chứa tất cả các kí tự')\n",
    "else:\n",
    "        print('Khong')\n"
   ],
   "id": "7480bf67ad50bc2f",
   "outputs": [
    {
     "name": "stdout",
     "output_type": "stream",
     "text": [
      "chứa tất cả các kí tự\n"
     ]
    }
   ],
   "execution_count": 5
  },
  {
   "metadata": {
    "ExecuteTime": {
     "end_time": "2025-04-02T06:39:12.116154Z",
     "start_time": "2025-04-02T06:39:08.647772Z"
    }
   },
   "cell_type": "code",
   "source": [
    "#47 lowercase the first n characters in a string.\n",
    "text = 'THE QUICK brown fox jumps OVER the lazy dog.'\n",
    "num_lower = int(input('enter to lower number: '))\n",
    "text = text[:num_lower].lower() + text[num_lower:]\n",
    "print(text)"
   ],
   "id": "86edf97eeeeae2ec",
   "outputs": [
    {
     "name": "stdout",
     "output_type": "stream",
     "text": [
      "the qUICK brown fox jumps OVER the lazy dog.\n"
     ]
    }
   ],
   "execution_count": 10
  },
  {
   "metadata": {
    "ExecuteTime": {
     "end_time": "2025-04-02T06:53:03.484887Z",
     "start_time": "2025-04-02T06:53:03.473378Z"
    }
   },
   "cell_type": "code",
   "source": [
    "#48\n",
    "num = '32.054,23'\n",
    "print(num.replace(',','a').replace('.',',').replace('a','.'))"
   ],
   "id": "e01092f212d7cfca",
   "outputs": [
    {
     "name": "stdout",
     "output_type": "stream",
     "text": [
      "32,054.23\n"
     ]
    }
   ],
   "execution_count": 19
  },
  {
   "metadata": {
    "ExecuteTime": {
     "end_time": "2025-04-03T14:53:07.356568Z",
     "start_time": "2025-04-03T14:53:07.349944Z"
    }
   },
   "cell_type": "code",
   "source": [
    "#49\n",
    "vowels = ['a', 'e', 'i', 'o', 'u','A','E','I','O','U']\n",
    "text = 'THE QUICK brown fox jumps OVER the lazy dog.'\n",
    "text = list(text)\n",
    "count = 0\n",
    "for i in range(len(text)):\n",
    "    for j in range(len(vowels)):\n",
    "        if text[i] == vowels[j]:\n",
    "            count += 1\n",
    "    if count >= 1:\n",
    "        print(f'{text[i]}: {count}')\n",
    "        count = 0\n"
   ],
   "id": "2cd39b216fe5d20e",
   "outputs": [
    {
     "name": "stdout",
     "output_type": "stream",
     "text": [
      "E: 1\n",
      "U: 1\n",
      "I: 1\n",
      "o: 1\n",
      "o: 1\n",
      "u: 1\n",
      "O: 1\n",
      "E: 1\n",
      "e: 1\n",
      "a: 1\n",
      "o: 1\n"
     ]
    }
   ],
   "execution_count": 1
  },
  {
   "metadata": {
    "ExecuteTime": {
     "end_time": "2025-04-03T15:39:24.579077Z",
     "start_time": "2025-04-03T15:39:11.000774Z"
    }
   },
   "cell_type": "code",
   "source": [
    "#50 write a python program to split a string on the last occurrence ò the delimiter\n",
    "text = input('enter to string: ')\n",
    "delimiter = input('enter to delimiter: ')\n",
    "end = 0\n",
    "for i in range(len(text)):\n",
    "    if text[i] == delimiter:\n",
    "        end = i\n",
    "if end > 0:\n",
    "    print(text[:end]+','+text[end+1:])\n",
    "else:\n",
    "    print(text)"
   ],
   "id": "4e73869b06ce0a9a",
   "outputs": [
    {
     "name": "stdout",
     "output_type": "stream",
     "text": [
      "tan phat yeu nn lắm ó\n"
     ]
    }
   ],
   "execution_count": 10
  },
  {
   "metadata": {
    "ExecuteTime": {
     "end_time": "2025-04-03T16:02:20.621636Z",
     "start_time": "2025-04-03T16:02:20.616494Z"
    }
   },
   "cell_type": "code",
   "source": [
    "#25 Write a Python program to create a Caesar encryption.\n",
    "alphabet = 'abcdefghijklmnopqrstuvwxyz'\n",
    "\n",
    "text = 'hello hello'\n",
    "text = text.lower()\n",
    "text = list(text)\n",
    "shift = 3\n",
    "new_text = ''\n",
    "for i in range(len(text)):\n",
    "    found = False\n",
    "    for j in range(len(alphabet)):\n",
    "        if text[i] == alphabet[j]:\n",
    "            new_position = (j + shift) % 26\n",
    "            new_text += alphabet[new_position]\n",
    "            found = True\n",
    "            break\n",
    "    if not found:\n",
    "        new_text += text[i]\n",
    "print(new_text)"
   ],
   "id": "c5f240347f56ab5",
   "outputs": [
    {
     "name": "stdout",
     "output_type": "stream",
     "text": [
      "khoor khoor\n"
     ]
    }
   ],
   "execution_count": 50
  },
  {
   "metadata": {
    "ExecuteTime": {
     "end_time": "2025-04-03T16:48:03.374929Z",
     "start_time": "2025-04-03T16:48:03.371279Z"
    }
   },
   "cell_type": "code",
   "source": [
    "#51  Write a  Python program to find the first non-repeating character in a given string.\n",
    "text = '1ssaswisss'\n",
    "text = text.lower()\n",
    "position = 0\n",
    "for i in range(len(text)):\n",
    "    count = 0\n",
    "    for j in range(len(text)):\n",
    "        if text[j] == text[i]:\n",
    "            count += 1\n",
    "    if count == 1:\n",
    "        position = i\n",
    "        break\n",
    "\n",
    "print(text[position])"
   ],
   "id": "cfe7f51c5a22aaf9",
   "outputs": [
    {
     "name": "stdout",
     "output_type": "stream",
     "text": [
      "1\n"
     ]
    }
   ],
   "execution_count": 69
  },
  {
   "metadata": {
    "ExecuteTime": {
     "end_time": "2025-04-03T17:27:05.307526Z",
     "start_time": "2025-04-03T17:27:02.130114Z"
    }
   },
   "cell_type": "code",
   "source": [
    "#52 all permutations\n",
    "import itertools\n",
    "text = 'abc'\n",
    "# for i in range(len(text)):\n",
    "#     for j in range(len(text)):\n",
    "#         print(text[i]+text[j])\n",
    "repetition = int(input('enter to repetition: '))\n",
    "result = itertools.product(text, repeat= repetition)\n",
    "for r in result:\n",
    "    print(''.join(r))\n"
   ],
   "id": "d2ca5dbd42fe9447",
   "outputs": [
    {
     "name": "stdout",
     "output_type": "stream",
     "text": [
      "aa\n",
      "ab\n",
      "ac\n",
      "ba\n",
      "bb\n",
      "bc\n",
      "ca\n",
      "cb\n",
      "cc\n"
     ]
    }
   ],
   "execution_count": 79
  },
  {
   "metadata": {
    "ExecuteTime": {
     "end_time": "2025-04-03T17:34:54.945392Z",
     "start_time": "2025-04-03T17:34:52.765235Z"
    }
   },
   "cell_type": "code",
   "source": [
    "#52\n",
    "text = 'abc'\n",
    "repetition = int(input('enter to repetition: '))\n",
    "\n",
    "def permutations(text, repetition, new_text=''):\n",
    "    if len(new_text) == repetition:\n",
    "        print(new_text)\n",
    "        return\n",
    "    for i in text:\n",
    "        permutations(text, repetition, new_text+i)\n",
    "permutations(text, repetition)"
   ],
   "id": "5119de53482b3b1c",
   "outputs": [
    {
     "name": "stdout",
     "output_type": "stream",
     "text": [
      "a\n",
      "b\n",
      "c\n"
     ]
    }
   ],
   "execution_count": 86
  },
  {
   "metadata": {
    "ExecuteTime": {
     "end_time": "2025-04-03T17:40:01.481088Z",
     "start_time": "2025-04-03T17:40:01.476981Z"
    }
   },
   "cell_type": "code",
   "source": [
    "#54 Write a Python program to find the first repeated character in a given string.\n",
    "text = 'sbaabcdedbsa'\n",
    "for i in range(len(text)):\n",
    "    count = 0\n",
    "    for j in range(len(text)):\n",
    "        if text[i] == text[j]:\n",
    "            count += 1\n",
    "    if count >= 2:\n",
    "        print(text[i])\n",
    "        break"
   ],
   "id": "d8a8db48c938131d",
   "outputs": [
    {
     "name": "stdout",
     "output_type": "stream",
     "text": [
      "s\n"
     ]
    }
   ],
   "execution_count": 92
  },
  {
   "metadata": {
    "ExecuteTime": {
     "end_time": "2025-04-04T06:17:17.148638Z",
     "start_time": "2025-04-04T06:17:17.136979Z"
    }
   },
   "cell_type": "code",
   "source": [
    "#55 the first most repeated\n",
    "text = 'aaabcdd'\n",
    "\n",
    "max_num = 0\n",
    "position = 0\n",
    "for i in range(len(text)):\n",
    "    count = 0\n",
    "    for j in range(len(text)):\n",
    "        if text[i] == text[j]:\n",
    "            count += 1\n",
    "    if count > max_num:\n",
    "        max_num = count\n",
    "        position = i\n",
    "\n",
    "\n",
    "print(text[position],max_num)\n"
   ],
   "id": "c4431f2cd82807d5",
   "outputs": [
    {
     "name": "stdout",
     "output_type": "stream",
     "text": [
      "a 3\n"
     ]
    }
   ],
   "execution_count": 40
  },
  {
   "metadata": {
    "ExecuteTime": {
     "end_time": "2025-04-04T06:17:20.934569Z",
     "start_time": "2025-04-04T06:17:20.925119Z"
    }
   },
   "cell_type": "code",
   "source": [
    "#56 the second most repeated\n",
    "text = 'abcdd'\n",
    "\n",
    "max_num = 0\n",
    "second = 0\n",
    "position = 0\n",
    "for i in range(len(text)):\n",
    "    count = 0\n",
    "    for j in range(len(text)):\n",
    "        if text[i] == text[j]:\n",
    "            count += 1\n",
    "    if count > max_num:\n",
    "            second = max_num\n",
    "            max_num = count\n",
    "    elif second < count < max_num:\n",
    "            second = count\n",
    "            position = i\n",
    "\n",
    "print(text[position],second)\n"
   ],
   "id": "a115c1087c6e88ea",
   "outputs": [
    {
     "name": "stdout",
     "output_type": "stream",
     "text": [
      "a 1\n"
     ]
    }
   ],
   "execution_count": 41
  },
  {
   "metadata": {
    "ExecuteTime": {
     "end_time": "2025-04-04T06:19:21.967094Z",
     "start_time": "2025-04-04T06:19:21.960524Z"
    }
   },
   "cell_type": "code",
   "source": [
    "#57 remove spaces\n",
    "text = 'aaa abc dfe'\n",
    "text = text.replace(' ','')\n",
    "print(text)"
   ],
   "id": "c5527dbd13538403",
   "outputs": [
    {
     "name": "stdout",
     "output_type": "stream",
     "text": [
      "aaaabcdfe\n"
     ]
    }
   ],
   "execution_count": 42
  },
  {
   "metadata": {
    "ExecuteTime": {
     "end_time": "2025-04-04T06:24:05.513400Z",
     "start_time": "2025-04-04T06:24:05.504538Z"
    }
   },
   "cell_type": "code",
   "source": [
    "#58 to move spaces to the front of a given string\n",
    "text = 'aaa abc dfe'\n",
    "count = text.count(' ')\n",
    "print(text)\n",
    "print(count * ' ' + text.replace(' ',''))"
   ],
   "id": "f13c8fe08fdf2be8",
   "outputs": [
    {
     "name": "stdout",
     "output_type": "stream",
     "text": [
      "aaa abc dfe\n",
      "  aaaabcdfe\n"
     ]
    }
   ],
   "execution_count": 48
  },
  {
   "metadata": {},
   "cell_type": "code",
   "outputs": [],
   "execution_count": null,
   "source": [
    "#59\n",
    "text = 'aaabcdd'\n",
    "\n",
    "max_num = 0\n",
    "position = 0\n",
    "for i in range(len(text)):\n",
    "    count = 0\n",
    "    for j in range(len(text)):\n",
    "        if text[i] == text[j]:\n",
    "            count += 1\n",
    "    if count > max_num:\n",
    "        max_num = count\n",
    "        position = i\n",
    "\n",
    "\n",
    "print(text[position],max_num)\n"
   ],
   "id": "b35a042518918e99"
  },
  {
   "metadata": {
    "ExecuteTime": {
     "end_time": "2025-04-04T06:39:52.843775Z",
     "start_time": "2025-04-04T06:39:52.832457Z"
    }
   },
   "cell_type": "code",
   "source": [
    "text = 'nguyen huynh tan phat'\n",
    "count = 0\n",
    "max_num = 0\n",
    "max_char = ''\n",
    "for char in text:\n",
    "    count = text.count(char)\n",
    "\n",
    "    if count > max_num:\n",
    "        max_num = count\n",
    "        max_char = char\n",
    "print(max_char,max_num)"
   ],
   "id": "9f2b099a8d173daf",
   "outputs": [
    {
     "name": "stdout",
     "output_type": "stream",
     "text": [
      "n 4\n"
     ]
    }
   ],
   "execution_count": 56
  },
  {
   "metadata": {
    "ExecuteTime": {
     "end_time": "2025-04-04T06:48:39.187623Z",
     "start_time": "2025-04-04T06:48:39.173483Z"
    }
   },
   "cell_type": "code",
   "source": [
    "#60\n",
    "text = 'nguyen huynh tan phat @ 2005 tvc '\n",
    "text = text.split()\n",
    "result = []\n",
    "for word in text:\n",
    "    if len(word) > 1:\n",
    "        word = word[0].upper() + word[1:-1] + word[-1].upper()\n",
    "    else:\n",
    "        word = word.upper()\n",
    "    result.append(word)\n",
    "print(' '.join(result))"
   ],
   "id": "e6b37ce59bce8504",
   "outputs": [
    {
     "name": "stdout",
     "output_type": "stream",
     "text": [
      "NguyeN HuynH TaN PhaT @ 2005 TvC\n"
     ]
    }
   ],
   "execution_count": 66
  },
  {
   "metadata": {},
   "cell_type": "code",
   "outputs": [],
   "execution_count": null,
   "source": "#61",
   "id": "944bcc1ce856d622"
  },
  {
   "metadata": {
    "ExecuteTime": {
     "end_time": "2025-04-04T07:00:29.719136Z",
     "start_time": "2025-04-04T07:00:29.710259Z"
    }
   },
   "cell_type": "code",
   "source": [
    "# 62  Write a Python program to compute the sum of the digits in a given string.\n",
    "text = ' nguyen huynh tan phat 2005'\n",
    "total = 0\n",
    "for i in range(len(text)):\n",
    "    if text[i].isdigit():\n",
    "        total += int(text[i])\n",
    "print(total)"
   ],
   "id": "af56321ca89b2e6d",
   "outputs": [
    {
     "name": "stdout",
     "output_type": "stream",
     "text": [
      "7\n"
     ]
    }
   ],
   "execution_count": 89
  },
  {
   "metadata": {
    "ExecuteTime": {
     "end_time": "2025-04-04T07:36:20.854412Z",
     "start_time": "2025-04-04T07:36:20.848383Z"
    }
   },
   "cell_type": "code",
   "source": [
    "#63\n",
    "ip_address = '192.168.001.001'\n",
    "print(f'IP: {ip_address.replace('0','')}')"
   ],
   "id": "145c23bf7f8a591d",
   "outputs": [
    {
     "name": "stdout",
     "output_type": "stream",
     "text": [
      "IP: 192.168.1.1\n"
     ]
    }
   ],
   "execution_count": 103
  },
  {
   "metadata": {
    "ExecuteTime": {
     "end_time": "2025-04-04T08:02:14.561117Z",
     "start_time": "2025-04-04T08:02:14.550552Z"
    }
   },
   "cell_type": "code",
   "source": [
    "#64 max '0' in binary string\n",
    "binary = '100001000111001'\n",
    "binary = binary.replace('1',' ')\n",
    "binary = binary.split()\n",
    "max_num = 0\n",
    "\n",
    "for i in range(len(binary)):\n",
    "    count = binary[i].count('0')\n",
    "    if count > max_num:\n",
    "        max_num = count\n",
    "\n",
    "print(max_num)\n",
    "\n"
   ],
   "id": "33b0562c7bd4868e",
   "outputs": [
    {
     "name": "stdout",
     "output_type": "stream",
     "text": [
      "4\n"
     ]
    }
   ],
   "execution_count": 169
  },
  {
   "metadata": {
    "ExecuteTime": {
     "end_time": "2025-04-04T07:33:07.553264Z",
     "start_time": "2025-04-04T07:33:04.698367Z"
    }
   },
   "cell_type": "code",
   "source": [
    "#72\n",
    "text = 'Python Exercises '\n",
    "expect = input('enter: ')\n",
    "result =''\n",
    "for i in range(len(text)):\n",
    "    if text[i] == expect:\n",
    "        result += expect\n",
    "print(result)\n",
    "\n",
    "\n"
   ],
   "id": "fc0394d5026da866",
   "outputs": [
    {
     "name": "stdout",
     "output_type": "stream",
     "text": [
      "ee\n"
     ]
    }
   ],
   "execution_count": 97
  }
 ],
 "metadata": {
  "kernelspec": {
   "display_name": "Python 3",
   "language": "python",
   "name": "python3"
  },
  "language_info": {
   "codemirror_mode": {
    "name": "ipython",
    "version": 2
   },
   "file_extension": ".py",
   "mimetype": "text/x-python",
   "name": "python",
   "nbconvert_exporter": "python",
   "pygments_lexer": "ipython2",
   "version": "2.7.6"
  }
 },
 "nbformat": 4,
 "nbformat_minor": 5
}
