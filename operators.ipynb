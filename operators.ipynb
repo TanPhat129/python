{
 "cells": [
  {
   "cell_type": "code",
   "id": "initial_id",
   "metadata": {
    "collapsed": true,
    "ExecuteTime": {
     "end_time": "2025-04-05T01:09:00.870246Z",
     "start_time": "2025-04-05T01:08:53.120310Z"
    }
   },
   "source": [
    "from traceback import print_tb\n",
    "\n",
    "#1\n",
    "base = input('enter the base: ')\n",
    "height = input('enter the height: ')\n",
    "area = 0.5 * float(height) * float(base)\n",
    "print(area)"
   ],
   "outputs": [
    {
     "name": "stdout",
     "output_type": "stream",
     "text": [
      "7.5\n"
     ]
    }
   ],
   "execution_count": 2
  },
  {
   "metadata": {
    "ExecuteTime": {
     "end_time": "2025-04-05T01:09:51.673021Z",
     "start_time": "2025-04-05T01:09:47.874029Z"
    }
   },
   "cell_type": "code",
   "source": [
    "#2\n",
    "a = float(input('enter the a: '))\n",
    "b = float(input('enter the b: '))\n",
    "c = float(input('enter the c: '))\n",
    "perimeter = a + b + c\n",
    "print(perimeter)"
   ],
   "id": "451f021f7988368e",
   "outputs": [
    {
     "name": "stdout",
     "output_type": "stream",
     "text": [
      "11.0\n"
     ]
    }
   ],
   "execution_count": 3
  },
  {
   "metadata": {},
   "cell_type": "code",
   "outputs": [],
   "execution_count": null,
   "source": [
    "#3\n",
    "a = float(input('enter the a: '))\n",
    "b = float(input('enter the b: '))\n",
    "area = a * b\n",
    "perimeter = 2 * ( a + b )\n",
    "print(perimeter)\n",
    "print(area)"
   ],
   "id": "2edd4d9732170b1a"
  },
  {
   "metadata": {},
   "cell_type": "code",
   "outputs": [],
   "execution_count": null,
   "source": [
    "#4\n",
    "pi = 3.14\n",
    "r = float(input('enter the radius: '))\n",
    "area = pi * r * r\n",
    "circumference = 2 * pi * r\n",
    "print(area)\n",
    "print(circumference)"
   ],
   "id": "2cd29af70b65c4b4"
  },
  {
   "metadata": {
    "ExecuteTime": {
     "end_time": "2025-04-05T01:43:29.258664Z",
     "start_time": "2025-04-05T01:43:29.242930Z"
    }
   },
   "cell_type": "code",
   "source": [
    "#5\n",
    "def f(x):\n",
    "    return 2*x - 2\n",
    "x0 = 0\n",
    "y_intercept = f(x0)\n",
    "\n",
    "y0 = 0\n",
    "x_intercept = (y0 + 2)/ 2\n",
    "\n",
    "slope = (y_intercept - y0)/(x_intercept - x0)\n",
    "\n",
    "print(slope)\n",
    "print(f'({x_intercept}, {y0})')\n",
    "print(f'({x0}, {y_intercept})')"
   ],
   "id": "15f68f0fb4632892",
   "outputs": [
    {
     "name": "stdout",
     "output_type": "stream",
     "text": [
      "-2.0\n",
      "(1.0, 0)\n",
      "(0, -2)\n"
     ]
    }
   ],
   "execution_count": 59
  },
  {
   "metadata": {
    "ExecuteTime": {
     "end_time": "2025-04-11T15:35:05.725875Z",
     "start_time": "2025-04-11T15:35:05.720200Z"
    }
   },
   "cell_type": "code",
   "source": [
    "#6 euclid : khoảng cách,\n",
    "import math\n",
    "x1, y1, x2, y2 = 2, 2, 6, 10\n",
    "A = [x1, y1]\n",
    "B = [x2, y2]\n",
    "m = (y2 - y1) / (x2 - x1)\n",
    "d = math.sqrt((x2 - x1)**2 + (y2 - y1)**2)\n",
    "print(m)\n",
    "print(d)"
   ],
   "id": "65514fa35b119afa",
   "outputs": [
    {
     "name": "stdout",
     "output_type": "stream",
     "text": [
      "2.0\n",
      "8.94427190999916\n"
     ]
    }
   ],
   "execution_count": 5
  },
  {
   "metadata": {
    "ExecuteTime": {
     "end_time": "2025-04-11T15:43:42.541048Z",
     "start_time": "2025-04-11T15:43:42.519947Z"
    }
   },
   "cell_type": "code",
   "source": [
    "#7\n",
    "x1, y1 = 2, 2\n",
    "x2, y2 = 6, 10\n",
    "\n",
    "m = (y2 - y1) / (x2 - x1)\n",
    "\n",
    "x0 = x1          # = 2\n",
    "y_intercept = y1 # = 2\n",
    "x_intercept = x2 # = 6\n",
    "y0 = y2          # = 10\n",
    "\n",
    "slope = ((y_intercept - y0)/(x_intercept - x0))\n",
    "\n",
    "print(m)         # 2.0\n",
    "print(slope)     # 2.0\n"
   ],
   "id": "2e278b6f8bf14579",
   "outputs": [
    {
     "name": "stdout",
     "output_type": "stream",
     "text": [
      "2.0\n",
      "-2.0\n"
     ]
    }
   ],
   "execution_count": 10
  },
  {
   "metadata": {
    "ExecuteTime": {
     "end_time": "2025-04-11T15:32:40.600157Z",
     "start_time": "2025-04-11T15:32:40.594182Z"
    }
   },
   "cell_type": "code",
   "source": [
    "#8\n",
    "def calculate_y(x):\n",
    "    return x**2 + 6*x + 9\n",
    "\n",
    "# Try different x values\n",
    "for x in range(-100, 100):\n",
    "    y = calculate_y(x)\n",
    "    if y == 0:\n",
    "        print(f\"x = {x}, y = {y}\")\n"
   ],
   "id": "ea465b70ec289437",
   "outputs": [
    {
     "name": "stdout",
     "output_type": "stream",
     "text": [
      "x = -3, y = 0\n"
     ]
    }
   ],
   "execution_count": 4
  },
  {
   "metadata": {
    "ExecuteTime": {
     "end_time": "2025-04-11T15:29:26.386417Z",
     "start_time": "2025-04-11T15:29:26.376898Z"
    }
   },
   "cell_type": "code",
   "source": [
    "#9\n",
    "a =  'python'\n",
    "b = 'dragon'\n",
    "print('lenght different: ', len(a) != len(b))"
   ],
   "id": "b6a9a05b5150859e",
   "outputs": [
    {
     "name": "stdout",
     "output_type": "stream",
     "text": [
      "lenght different:  False\n"
     ]
    }
   ],
   "execution_count": 1
  },
  {
   "metadata": {
    "ExecuteTime": {
     "end_time": "2025-04-11T07:30:59.394735Z",
     "start_time": "2025-04-11T07:30:59.379272Z"
    }
   },
   "cell_type": "code",
   "source": [
    "#10 check if 'on'is in both strings\n",
    "if 'on' in 'python' and 'on' in 'dragon':\n",
    "    print('yes')\n",
    "else:\n",
    "    print('no')\n"
   ],
   "id": "e49fb881c4facd1c",
   "outputs": [
    {
     "name": "stdout",
     "output_type": "stream",
     "text": [
      "yes\n"
     ]
    }
   ],
   "execution_count": 9
  },
  {
   "metadata": {
    "ExecuteTime": {
     "end_time": "2025-04-11T07:29:00.559853Z",
     "start_time": "2025-04-11T07:29:00.551920Z"
    }
   },
   "cell_type": "code",
   "source": [
    "#11\n",
    "sentence = \"I hope this course is not full of jargon.\"\n",
    "\n",
    "#Kiểm tra\n",
    "if \"jargon\" in sentence:\n",
    "    print(\"Từ 'jargon' CÓ xuất hiện trong câu.\")\n",
    "else:\n",
    "    print(\"Từ 'jargon' KHÔNG xuất hiện trong câu.\")\n"
   ],
   "id": "d80863167b2d787a",
   "outputs": [
    {
     "name": "stdout",
     "output_type": "stream",
     "text": [
      "Từ 'jargon' CÓ xuất hiện trong câu.\n"
     ]
    }
   ],
   "execution_count": 8
  },
  {
   "metadata": {},
   "cell_type": "code",
   "outputs": [],
   "execution_count": null,
   "source": "#12",
   "id": "e43a130305c80fb0"
  },
  {
   "metadata": {
    "ExecuteTime": {
     "end_time": "2025-04-11T07:19:22.063943Z",
     "start_time": "2025-04-11T07:19:22.053488Z"
    }
   },
   "cell_type": "code",
   "source": [
    "#13\n",
    "text = 'pyhton'\n",
    "length = float(len(text))\n",
    "print(str(length))\n"
   ],
   "id": "fc09aee386871dd8",
   "outputs": [
    {
     "name": "stdout",
     "output_type": "stream",
     "text": [
      "6.0\n",
      "6\n"
     ]
    }
   ],
   "execution_count": 3
  },
  {
   "metadata": {},
   "cell_type": "code",
   "outputs": [],
   "execution_count": null,
   "source": [
    "#14\n",
    "num = float(input('enter a number: '))\n",
    "if num % == 0:\n",
    "    print(f'{num} is even')\n",
    "else:\n",
    "    print(f'{num} is odd')"
   ],
   "id": "ea9ab55750d9b1f0"
  },
  {
   "metadata": {},
   "cell_type": "code",
   "outputs": [],
   "execution_count": null,
   "source": [
    "#15\n",
    "hours = float(input('enter the hours: '))\n",
    "rate = float(input('enter the rate: '))\n",
    "total = hours * rate\n",
    "print(f'total is pay: {total}')"
   ],
   "id": "abe7534e0285470"
  },
  {
   "metadata": {
    "ExecuteTime": {
     "end_time": "2025-04-11T07:26:15.344169Z",
     "start_time": "2025-04-11T07:26:12.617470Z"
    }
   },
   "cell_type": "code",
   "source": [
    "#16\n",
    "years = float(input('enter the year: '))\n",
    "seconds = years * 365 * 24 * 60 * 60\n",
    "print(seconds)"
   ],
   "id": "3b1b3ffcefd1d33",
   "outputs": [
    {
     "name": "stdout",
     "output_type": "stream",
     "text": [
      "630720000.0\n"
     ]
    }
   ],
   "execution_count": 6
  }
 ],
 "metadata": {
  "kernelspec": {
   "display_name": "Python 3",
   "language": "python",
   "name": "python3"
  },
  "language_info": {
   "codemirror_mode": {
    "name": "ipython",
    "version": 2
   },
   "file_extension": ".py",
   "mimetype": "text/x-python",
   "name": "python",
   "nbconvert_exporter": "python",
   "pygments_lexer": "ipython2",
   "version": "2.7.6"
  }
 },
 "nbformat": 4,
 "nbformat_minor": 5
}
